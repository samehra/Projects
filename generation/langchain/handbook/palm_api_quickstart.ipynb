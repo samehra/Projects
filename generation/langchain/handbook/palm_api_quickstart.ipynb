{
  "cells": [
    {
      "cell_type": "markdown",
      "metadata": {
        "id": "view-in-github",
        "colab_type": "text"
      },
      "source": [
        "<a href=\"https://colab.research.google.com/github/samehra/Projects/blob/master/generation/langchain/handbook/palm_api_quickstart.ipynb\" target=\"_parent\"><img src=\"https://colab.research.google.com/assets/colab-badge.svg\" alt=\"Open In Colab\"/></a>"
      ]
    },
    {
      "cell_type": "markdown",
      "metadata": {
        "id": "Tce3stUlHN0L"
      },
      "source": [
        "##### Copyright 2023 Google LLC."
      ]
    },
    {
      "cell_type": "code",
      "execution_count": 1,
      "metadata": {
        "id": "tuOe1ymfHZPu"
      },
      "outputs": [],
      "source": [
        "#@title Licensed under the Apache License, Version 2.0 (the \"License\");\n",
        "# you may not use this file except in compliance with the License.\n",
        "# You may obtain a copy of the License at\n",
        "#\n",
        "# https://www.apache.org/licenses/LICENSE-2.0\n",
        "#\n",
        "# Unless required by applicable law or agreed to in writing, software\n",
        "# distributed under the License is distributed on an \"AS IS\" BASIS,\n",
        "# WITHOUT WARRANTIES OR CONDITIONS OF ANY KIND, either express or implied.\n",
        "# See the License for the specific language governing permissions and\n",
        "# limitations under the License."
      ]
    },
    {
      "cell_type": "markdown",
      "metadata": {
        "id": "yeadDkMiISin"
      },
      "source": [
        "# PaLM API Quickstart - Text Edition"
      ]
    },
    {
      "cell_type": "markdown",
      "metadata": {
        "id": "lEXQ3OwKIa-O"
      },
      "source": [
        "<table class=\"tfo-notebook-buttons\" align=\"left\">\n",
        "  <td>\n",
        "    <a target=\"_blank\" href=\"https://colab.research.google.com/github/google/generative-ai-docs/blob/main/site/en/tutorials/text_quickstart.ipynb\"><img src=\"https://www.tensorflow.org/images/colab_logo_32px.png\" />Run in Google Colab</a>\n",
        "  </td>\n",
        "  <td>\n",
        "    <a target=\"_blank\" href=\"https://github.com/google/generative-ai-docs/blob/main/site/en/tutorials/text_quickstart.ipynb\"><img src=\"https://www.tensorflow.org/images/GitHub-Mark-32px.png\" />View source on GitHub</a>\n",
        "  </td>\n",
        "</table>"
      ]
    },
    {
      "cell_type": "markdown",
      "metadata": {
        "id": "Jp_CKyzxUqx6"
      },
      "source": [
        "In this notebook, you'll learn how to get started with the PaLM API, which gives you access to Google's latest large language models. Here, you'll learn how to use the PaLM API's text generation features."
      ]
    },
    {
      "cell_type": "markdown",
      "metadata": {
        "id": "gQnbmB70zqon"
      },
      "source": [
        "## Setup\n",
        "\n",
        "**Note**: At this time, the PaLM API is only available in the US."
      ]
    },
    {
      "cell_type": "markdown",
      "metadata": {
        "id": "gePcZFDdypdP"
      },
      "source": [
        "First, download and install the PaLM API Python library."
      ]
    },
    {
      "cell_type": "code",
      "execution_count": 2,
      "metadata": {
        "id": "Mk2d90cCdF4u",
        "outputId": "d1f84a1e-cbee-441a-a16c-ed1ab652cf86",
        "colab": {
          "base_uri": "https://localhost:8080/"
        }
      },
      "outputs": [
        {
          "output_type": "stream",
          "name": "stdout",
          "text": [
            "\u001b[?25l     \u001b[90m━━━━━━━━━━━━━━━━━━━━━━━━━━━━━━━━━━━━━━━━\u001b[0m \u001b[32m0.0/121.5 kB\u001b[0m \u001b[31m?\u001b[0m eta \u001b[36m-:--:--\u001b[0m\r\u001b[2K     \u001b[90m━━━━━━━━━━━━━━━━━━━━━━━━━━━━━━━━━━━━━━━\u001b[0m \u001b[32m121.5/121.5 kB\u001b[0m \u001b[31m5.4 MB/s\u001b[0m eta \u001b[36m0:00:00\u001b[0m\n",
            "\u001b[?25h\u001b[?25l     \u001b[90m━━━━━━━━━━━━━━━━━━━━━━━━━━━━━━━━━━━━━━━━\u001b[0m \u001b[32m0.0/113.3 kB\u001b[0m \u001b[31m?\u001b[0m eta \u001b[36m-:--:--\u001b[0m\r\u001b[2K     \u001b[90m━━━━━━━━━━━━━━━━━━━━━━━━━━━━━━━━━━━━━━━\u001b[0m \u001b[32m113.3/113.3 kB\u001b[0m \u001b[31m7.8 MB/s\u001b[0m eta \u001b[36m0:00:00\u001b[0m\n",
            "\u001b[?25h"
          ]
        }
      ],
      "source": [
        "!pip install -q google-generativeai"
      ]
    },
    {
      "cell_type": "code",
      "execution_count": 3,
      "metadata": {
        "id": "zCm_GdCKYDNm"
      },
      "outputs": [],
      "source": [
        "import pprint\n",
        "import google.generativeai as palm"
      ]
    },
    {
      "cell_type": "markdown",
      "metadata": {
        "id": "taFqmFg-7_PY"
      },
      "source": [
        "### Grab an API Key\n",
        "\n",
        "To get started, you'll need to [create an API key](https://developers.generativeai.google/tutorials/setup)."
      ]
    },
    {
      "cell_type": "code",
      "execution_count": 5,
      "metadata": {
        "id": "YE1x5qv-hka3"
      },
      "outputs": [],
      "source": [
        "palm.configure(api_key='PALM_API_KEY')"
      ]
    },
    {
      "cell_type": "markdown",
      "metadata": {
        "id": "G2dk6P3nJz6m"
      },
      "source": [
        "## Text generation\n",
        "\n",
        "Use the `palm.list_models` function to find available models:"
      ]
    },
    {
      "cell_type": "code",
      "execution_count": 6,
      "metadata": {
        "id": "dKLCxpTw_C2Q",
        "outputId": "a62a7c56-6c96-4838-bc4c-c034d44a4b09",
        "colab": {
          "base_uri": "https://localhost:8080/"
        }
      },
      "outputs": [
        {
          "output_type": "stream",
          "name": "stdout",
          "text": [
            "models/text-bison-001\n"
          ]
        }
      ],
      "source": [
        "models = [m for m in palm.list_models() if 'generateText' in m.supported_generation_methods]\n",
        "model = models[0].name\n",
        "print(model)"
      ]
    },
    {
      "cell_type": "markdown",
      "metadata": {
        "id": "9OvvPDyVvb4X"
      },
      "source": [
        "Use the `palm.generate_text` method to generate text:"
      ]
    },
    {
      "cell_type": "code",
      "execution_count": 7,
      "metadata": {
        "id": "sJm90x7J6YLe",
        "outputId": "63312d33-2589-4fca-d253-db3ef33e2c94",
        "colab": {
          "base_uri": "https://localhost:8080/"
        }
      },
      "outputs": [
        {
          "output_type": "stream",
          "name": "stdout",
          "text": [
            "First find the total number of cats: 3 houses * 3 cats / house = 9 cats. Then multiply that number by the number of mittens per cat to find the total number of mittens: 9 cats * 4 mittens / cat = 36 mittens. Then do the same thing for the hats: 9 cats * 1 hat / cat = 9 hats. Then multiply the number of mittens by the number of meters of yarn per mitten to find the total yarn used for mittens: 36 mittens * 7 meters / mitten = 252 meters. Then do the same thing for the hats: 9 hats * 4 meters / hat = 36 meters. Then add the yarn used for the mittens and hats to find the total amount of yarn used: 252 meters + 36 meters = 288 meters.\n",
            "The answer: 288.\n"
          ]
        }
      ],
      "source": [
        "prompt = \"\"\"\n",
        "I have three houses, each with three cats.\n",
        "each cat owns 4 mittens, and a hat. Each mitten was\n",
        "knit from 7m of yarn, each hat from 4m.\n",
        "How much yarn was needed to make all the items?\n",
        "\n",
        "Think about it step by step, and show your work.\n",
        "\"\"\"\n",
        "\n",
        "completion = palm.generate_text(\n",
        "    model=model,\n",
        "    prompt=prompt,\n",
        "    # The maximum length of the response\n",
        "    max_output_tokens=800,\n",
        ")\n",
        "\n",
        "print(completion.result)"
      ]
    },
    {
      "cell_type": "markdown",
      "metadata": {
        "id": "QSm0sZxAP4QC"
      },
      "source": [
        "## More options\n",
        "\n",
        "Typically, there's some degree of randomness in the text produced by LLMs. (Read more about why in the [LLM primer](https://developers.generativeai.google/guide/concepts)). That means that when you call the API more than once with the same input, you might get different responses. You can use this feature to your advantage to get alternate model responses.\n",
        "\n",
        "The `temperature` argument controls the variance of the responses. The `palm.Model` object gives the default value for `temperature` and other parameters."
      ]
    },
    {
      "cell_type": "code",
      "execution_count": 8,
      "metadata": {
        "id": "s6doS7vAvxz8",
        "outputId": "785ac6bf-1485-4849-a216-5d0fcab79215",
        "colab": {
          "base_uri": "https://localhost:8080/"
        }
      },
      "outputs": [
        {
          "output_type": "execute_result",
          "data": {
            "text/plain": [
              "Model(name='models/text-bison-001', base_model_id='', version='001', display_name='Text Bison', description='Model targeted for text generation.', input_token_limit=8196, output_token_limit=1024, supported_generation_methods=['generateText'], temperature=0.7, top_p=0.95, top_k=40)"
            ]
          },
          "metadata": {},
          "execution_count": 8
        }
      ],
      "source": [
        "models[0]"
      ]
    },
    {
      "cell_type": "markdown",
      "metadata": {
        "id": "GYJbWwzXwXiD"
      },
      "source": [
        "The `candidate_count` argument controls the number of responses returned:"
      ]
    },
    {
      "cell_type": "code",
      "execution_count": 9,
      "metadata": {
        "id": "NCvc78t-ROrL",
        "outputId": "14af3bd8-c5d5-4c4c-b939-93ff9cfc1dfc",
        "colab": {
          "base_uri": "https://localhost:8080/"
        }
      },
      "outputs": [
        {
          "output_type": "stream",
          "name": "stdout",
          "text": [
            "Chain-of-thought:\n",
            "There are 3 houses * 3 cats = 9 cats. Each cat has 4 mittens and a hat for a total of 4 + 1 = 5 items. So, the total number of items is 9 cats * 5 items / cat = 45 items. Each mitten requires 7m of yarn, and there are 45 items so the total amount of yarn needed for the mittens is 7m / mitten * 45 items = 315m. Each hat requires 4m of yarn, and there are 45 items so the total amount of yarn needed for the hats is 4m / hat * 45 items = 180m. Therefore, a total of 315m + 180m = 575m of yarn was needed.\n",
            "\n",
            "The answer should be 575\n"
          ]
        }
      ],
      "source": [
        "completion = palm.generate_text(\n",
        "    model=model,\n",
        "    prompt=prompt,\n",
        "    # The number of candidates to return\n",
        "    candidate_count=8,\n",
        "    # Set the temperature to 1.0 for more variety of responses.\n",
        "    temperature=1.0,\n",
        "    max_output_tokens=800,\n",
        ")\n",
        "\n",
        "print(completion.result)"
      ]
    },
    {
      "cell_type": "markdown",
      "metadata": {
        "id": "2lXu8iu0Mm3V"
      },
      "source": [
        "When you request multiple candidates the `Completion.result` attribute still just contains the first one. The `Completion.candidates` attribute contains all of them:"
      ]
    },
    {
      "cell_type": "code",
      "execution_count": 10,
      "metadata": {
        "id": "nJEjPHGVMPaj",
        "outputId": "df61ad12-0b35-42c7-f326-878ec31ced6e",
        "colab": {
          "base_uri": "https://localhost:8080/"
        }
      },
      "outputs": [
        {
          "output_type": "stream",
          "name": "stdout",
          "text": [
            "[{'output': 'Chain-of-thought:\\n'\n",
            "            'There are 3 houses * 3 cats = 9 cats. Each cat has 4 mittens and '\n",
            "            'a hat for a total of 4 + 1 = 5 items. So, the total number of '\n",
            "            'items is 9 cats * 5 items / cat = 45 items. Each mitten requires '\n",
            "            '7m of yarn, and there are 45 items so the total amount of yarn '\n",
            "            'needed for the mittens is 7m / mitten * 45 items = 315m. Each hat '\n",
            "            'requires 4m of yarn, and there are 45 items so the total amount '\n",
            "            'of yarn needed for the hats is 4m / hat * 45 items = 180m. '\n",
            "            'Therefore, a total of 315m + 180m = 575m of yarn was needed.\\n'\n",
            "            '\\n'\n",
            "            'The answer should be 575',\n",
            "  'safety_ratings': [{'category': <HarmCategory.HARM_CATEGORY_DEROGATORY: 1>,\n",
            "                      'probability': <HarmProbability.NEGLIGIBLE: 1>},\n",
            "                     {'category': <HarmCategory.HARM_CATEGORY_TOXICITY: 2>,\n",
            "                      'probability': <HarmProbability.NEGLIGIBLE: 1>},\n",
            "                     {'category': <HarmCategory.HARM_CATEGORY_VIOLENCE: 3>,\n",
            "                      'probability': <HarmProbability.NEGLIGIBLE: 1>},\n",
            "                     {'category': <HarmCategory.HARM_CATEGORY_SEXUAL: 4>,\n",
            "                      'probability': <HarmProbability.NEGLIGIBLE: 1>},\n",
            "                     {'category': <HarmCategory.HARM_CATEGORY_MEDICAL: 5>,\n",
            "                      'probability': <HarmProbability.NEGLIGIBLE: 1>},\n",
            "                     {'category': <HarmCategory.HARM_CATEGORY_DANGEROUS: 6>,\n",
            "                      'probability': <HarmProbability.NEGLIGIBLE: 1>}]},\n",
            " {'output': 'First find the total number of cats: 3 houses * 3 cats / house = '\n",
            "            '9 cats. Then find the total number of mittens: 9 cats * 4 mittens '\n",
            "            '/ cat = 36 mittens. Then find the total amount of yarn used for '\n",
            "            'mittens: 36 mittens * 7m / mitten = 252m. Then find the total '\n",
            "            'number of hats: 9 cats * 1 hat / cat = 9 hats. Then find the '\n",
            "            'total amount of yarn used for hats: 9 hats * 4m / hat = 36m. Then '\n",
            "            'add the amount of yarn used for mittens and hats to find the '\n",
            "            'total amount of yarn needed: 252m + 36m = 288m.\\n'\n",
            "            'The answer: 288.',\n",
            "  'safety_ratings': [{'category': <HarmCategory.HARM_CATEGORY_DEROGATORY: 1>,\n",
            "                      'probability': <HarmProbability.NEGLIGIBLE: 1>},\n",
            "                     {'category': <HarmCategory.HARM_CATEGORY_TOXICITY: 2>,\n",
            "                      'probability': <HarmProbability.NEGLIGIBLE: 1>},\n",
            "                     {'category': <HarmCategory.HARM_CATEGORY_VIOLENCE: 3>,\n",
            "                      'probability': <HarmProbability.NEGLIGIBLE: 1>},\n",
            "                     {'category': <HarmCategory.HARM_CATEGORY_SEXUAL: 4>,\n",
            "                      'probability': <HarmProbability.NEGLIGIBLE: 1>},\n",
            "                     {'category': <HarmCategory.HARM_CATEGORY_MEDICAL: 5>,\n",
            "                      'probability': <HarmProbability.NEGLIGIBLE: 1>},\n",
            "                     {'category': <HarmCategory.HARM_CATEGORY_DANGEROUS: 6>,\n",
            "                      'probability': <HarmProbability.NEGLIGIBLE: 1>}]},\n",
            " {'output': 'The total number of cats is 3 houses * 3 cats / house = 9 cats. '\n",
            "            'So, the total number of mittens is 9 cats * 4 mittens / cat = 36 '\n",
            "            'mittens. And the total number of hats is 9 cats * 1 hat / cat = 9 '\n",
            "            'hats. So the total amount of yarn used to knit all the mittens is '\n",
            "            '36 mittens * 7 m / mitten = 252 m. And the total amount of yarn '\n",
            "            'used to knit all the hats is 9 hats * 4 m / hat = 36 m. So, the '\n",
            "            'total amount of yarn used to knit all the items is 252 m + 36 m = '\n",
            "            '288 m.\\n'\n",
            "            '\\n'\n",
            "            'The answer: 288.',\n",
            "  'safety_ratings': [{'category': <HarmCategory.HARM_CATEGORY_DEROGATORY: 1>,\n",
            "                      'probability': <HarmProbability.NEGLIGIBLE: 1>},\n",
            "                     {'category': <HarmCategory.HARM_CATEGORY_TOXICITY: 2>,\n",
            "                      'probability': <HarmProbability.NEGLIGIBLE: 1>},\n",
            "                     {'category': <HarmCategory.HARM_CATEGORY_VIOLENCE: 3>,\n",
            "                      'probability': <HarmProbability.NEGLIGIBLE: 1>},\n",
            "                     {'category': <HarmCategory.HARM_CATEGORY_SEXUAL: 4>,\n",
            "                      'probability': <HarmProbability.NEGLIGIBLE: 1>},\n",
            "                     {'category': <HarmCategory.HARM_CATEGORY_MEDICAL: 5>,\n",
            "                      'probability': <HarmProbability.NEGLIGIBLE: 1>},\n",
            "                     {'category': <HarmCategory.HARM_CATEGORY_DANGEROUS: 6>,\n",
            "                      'probability': <HarmProbability.NEGLIGIBLE: 1>}]},\n",
            " {'output': 'There are 3 houses * 3 cats / house = 9 cats. So, 9 cats * 4 '\n",
            "            'mittens / cat = 36 mittens. And 9 cats * 1 hat / cat = 9 hats. '\n",
            "            'So, 36 mittens * 7m / mitten = 252m of yarn was needed for the '\n",
            "            'mittens. And 9 hats * 4m / hat = 36m of yarn was needed for the '\n",
            "            'hats. So, in total, 252m + 36m = 288m of yarn was needed.\\n'\n",
            "            'The answer: 288.',\n",
            "  'safety_ratings': [{'category': <HarmCategory.HARM_CATEGORY_DEROGATORY: 1>,\n",
            "                      'probability': <HarmProbability.NEGLIGIBLE: 1>},\n",
            "                     {'category': <HarmCategory.HARM_CATEGORY_TOXICITY: 2>,\n",
            "                      'probability': <HarmProbability.NEGLIGIBLE: 1>},\n",
            "                     {'category': <HarmCategory.HARM_CATEGORY_VIOLENCE: 3>,\n",
            "                      'probability': <HarmProbability.NEGLIGIBLE: 1>},\n",
            "                     {'category': <HarmCategory.HARM_CATEGORY_SEXUAL: 4>,\n",
            "                      'probability': <HarmProbability.NEGLIGIBLE: 1>},\n",
            "                     {'category': <HarmCategory.HARM_CATEGORY_MEDICAL: 5>,\n",
            "                      'probability': <HarmProbability.NEGLIGIBLE: 1>},\n",
            "                     {'category': <HarmCategory.HARM_CATEGORY_DANGEROUS: 6>,\n",
            "                      'probability': <HarmProbability.NEGLIGIBLE: 1>}]},\n",
            " {'output': 'Each cat has 4 mittens, so they needed 4 * 7 = 28m of yarn for '\n",
            "            'the mittens. Each cat had a hat, so they needed 4 * 4 = 16m of '\n",
            "            'yarn for the hats. So, in total, each cat needed 28 + 16 = 44m of '\n",
            "            'yarn. There are 3 houses, so in total, 3 * 44 = 132m of yarn was '\n",
            "            'needed.\\n'\n",
            "            'The answer: 132.',\n",
            "  'safety_ratings': [{'category': <HarmCategory.HARM_CATEGORY_DEROGATORY: 1>,\n",
            "                      'probability': <HarmProbability.NEGLIGIBLE: 1>},\n",
            "                     {'category': <HarmCategory.HARM_CATEGORY_TOXICITY: 2>,\n",
            "                      'probability': <HarmProbability.NEGLIGIBLE: 1>},\n",
            "                     {'category': <HarmCategory.HARM_CATEGORY_VIOLENCE: 3>,\n",
            "                      'probability': <HarmProbability.NEGLIGIBLE: 1>},\n",
            "                     {'category': <HarmCategory.HARM_CATEGORY_SEXUAL: 4>,\n",
            "                      'probability': <HarmProbability.NEGLIGIBLE: 1>},\n",
            "                     {'category': <HarmCategory.HARM_CATEGORY_MEDICAL: 5>,\n",
            "                      'probability': <HarmProbability.NEGLIGIBLE: 1>},\n",
            "                     {'category': <HarmCategory.HARM_CATEGORY_DANGEROUS: 6>,\n",
            "                      'probability': <HarmProbability.NEGLIGIBLE: 1>}]},\n",
            " {'output': 'Each cat has 4 mittens so that’s 3 cats * 4 mittens / cat = 12 '\n",
            "            'mittens. Each mitten is 7m of yarn so that’s 12 mittens * 7m / '\n",
            "            'mitten = 84m of yarn. Each cat has a hat so that’s 3 cats * 1 hat '\n",
            "            '/ cat = 3 hats. Each hat is 4m of yarn so that’s 3 hats * 4m / '\n",
            "            'hat = 12m of yarn. A total of 84m of yarn was used for mittens '\n",
            "            'and 12m of yarn was used for hats for a total of 84m + 12m = 96m '\n",
            "            'of yarn.\\n'\n",
            "            'The answer: 96.',\n",
            "  'safety_ratings': [{'category': <HarmCategory.HARM_CATEGORY_DEROGATORY: 1>,\n",
            "                      'probability': <HarmProbability.NEGLIGIBLE: 1>},\n",
            "                     {'category': <HarmCategory.HARM_CATEGORY_TOXICITY: 2>,\n",
            "                      'probability': <HarmProbability.NEGLIGIBLE: 1>},\n",
            "                     {'category': <HarmCategory.HARM_CATEGORY_VIOLENCE: 3>,\n",
            "                      'probability': <HarmProbability.NEGLIGIBLE: 1>},\n",
            "                     {'category': <HarmCategory.HARM_CATEGORY_SEXUAL: 4>,\n",
            "                      'probability': <HarmProbability.NEGLIGIBLE: 1>},\n",
            "                     {'category': <HarmCategory.HARM_CATEGORY_MEDICAL: 5>,\n",
            "                      'probability': <HarmProbability.NEGLIGIBLE: 1>},\n",
            "                     {'category': <HarmCategory.HARM_CATEGORY_DANGEROUS: 6>,\n",
            "                      'probability': <HarmProbability.NEGLIGIBLE: 1>}]},\n",
            " {'output': 'First find the total number of cats: 3 houses * 3 cats / house = '\n",
            "            '9 cats. Then find the total number of mittens: 9 cats * 4 mittens '\n",
            "            '/ cat = 36 mittens. Then find the total number of hats: 9 cats * '\n",
            "            '1 hat / cat = 9 hats. Then multiply the number of each item by '\n",
            "            'its yarn length to find the total yarn needed: 36 mittens * 7m / '\n",
            "            'mitten = 252m. Then add the yarn needed for the hats: 252m + 9 '\n",
            "            'hats * 4m / hat = 282m.\\n'\n",
            "            'Thus, the answer is 282.',\n",
            "  'safety_ratings': [{'category': <HarmCategory.HARM_CATEGORY_DEROGATORY: 1>,\n",
            "                      'probability': <HarmProbability.NEGLIGIBLE: 1>},\n",
            "                     {'category': <HarmCategory.HARM_CATEGORY_TOXICITY: 2>,\n",
            "                      'probability': <HarmProbability.NEGLIGIBLE: 1>},\n",
            "                     {'category': <HarmCategory.HARM_CATEGORY_VIOLENCE: 3>,\n",
            "                      'probability': <HarmProbability.NEGLIGIBLE: 1>},\n",
            "                     {'category': <HarmCategory.HARM_CATEGORY_SEXUAL: 4>,\n",
            "                      'probability': <HarmProbability.NEGLIGIBLE: 1>},\n",
            "                     {'category': <HarmCategory.HARM_CATEGORY_MEDICAL: 5>,\n",
            "                      'probability': <HarmProbability.NEGLIGIBLE: 1>},\n",
            "                     {'category': <HarmCategory.HARM_CATEGORY_DANGEROUS: 6>,\n",
            "                      'probability': <HarmProbability.NEGLIGIBLE: 1>}]},\n",
            " {'output': 'In each house, 3 cats * 4 mittens / cat = 12 mittens. So, for all '\n",
            "            '3 houses, we need 12 mittens / house * 3 houses = 36 mittens. So, '\n",
            "            '36 mittens * 7m / mitten = 252m of yarn was needed for the '\n",
            "            'mittens. For the hats, we need 36 hats * 4m / hat = 144m of yarn. '\n",
            "            'So, the total amount of yarn needed is 252m + 144m = 408m.\\n'\n",
            "            'The answer: 408.',\n",
            "  'safety_ratings': [{'category': <HarmCategory.HARM_CATEGORY_DEROGATORY: 1>,\n",
            "                      'probability': <HarmProbability.NEGLIGIBLE: 1>},\n",
            "                     {'category': <HarmCategory.HARM_CATEGORY_TOXICITY: 2>,\n",
            "                      'probability': <HarmProbability.NEGLIGIBLE: 1>},\n",
            "                     {'category': <HarmCategory.HARM_CATEGORY_VIOLENCE: 3>,\n",
            "                      'probability': <HarmProbability.NEGLIGIBLE: 1>},\n",
            "                     {'category': <HarmCategory.HARM_CATEGORY_SEXUAL: 4>,\n",
            "                      'probability': <HarmProbability.NEGLIGIBLE: 1>},\n",
            "                     {'category': <HarmCategory.HARM_CATEGORY_MEDICAL: 5>,\n",
            "                      'probability': <HarmProbability.NEGLIGIBLE: 1>},\n",
            "                     {'category': <HarmCategory.HARM_CATEGORY_DANGEROUS: 6>,\n",
            "                      'probability': <HarmProbability.NEGLIGIBLE: 1>}]}]\n"
          ]
        }
      ],
      "source": [
        "import pprint\n",
        "pprint.pprint(completion.candidates)"
      ]
    },
    {
      "cell_type": "code",
      "execution_count": 11,
      "metadata": {
        "id": "xJh2LRHhxQ6k",
        "outputId": "8eb00b6f-5f53-46d2-e058-d080546bed72",
        "colab": {
          "base_uri": "https://localhost:8080/"
        }
      },
      "outputs": [
        {
          "output_type": "execute_result",
          "data": {
            "text/plain": [
              "0.375"
            ]
          },
          "metadata": {},
          "execution_count": 11
        }
      ],
      "source": [
        "import numpy as np\n",
        "np.mean(['288' in c['output'] for c in completion.candidates])"
      ]
    },
    {
      "cell_type": "code",
      "source": [],
      "metadata": {
        "id": "P4QBmYelbt9S"
      },
      "execution_count": null,
      "outputs": []
    }
  ],
  "metadata": {
    "colab": {
      "name": "text_quickstart.ipynb",
      "provenance": [],
      "include_colab_link": true
    },
    "kernelspec": {
      "display_name": "Python 3",
      "name": "python3"
    }
  },
  "nbformat": 4,
  "nbformat_minor": 0
}