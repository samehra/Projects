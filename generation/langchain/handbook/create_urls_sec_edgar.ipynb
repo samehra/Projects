{
  "nbformat": 4,
  "nbformat_minor": 0,
  "metadata": {
    "colab": {
      "name": "create_urls_sec_edgar.ipynb",
      "provenance": [],
      "include_colab_link": true
    },
    "kernelspec": {
      "name": "python3",
      "display_name": "Python 3"
    },
    "language_info": {
      "name": "python"
    }
  },
  "cells": [
    {
      "cell_type": "markdown",
      "metadata": {
        "id": "view-in-github",
        "colab_type": "text"
      },
      "source": [
        "<a href=\"https://colab.research.google.com/github/samehra/Projects/blob/master/generation/langchain/handbook/create_urls_sec_edgar.ipynb\" target=\"_parent\"><img src=\"https://colab.research.google.com/assets/colab-badge.svg\" alt=\"Open In Colab\"/></a>"
      ]
    },
    {
      "cell_type": "code",
      "execution_count": null,
      "metadata": {
        "id": "wRURdE3ynhPy"
      },
      "outputs": [],
      "source": [
        "pip install sec-api"
      ]
    },
    {
      "cell_type": "code",
      "source": [
        "from sec_api import QueryApi\n",
        "\n",
        "queryApi = QueryApi(api_key=\"YOUR_API_KEY\")"
      ],
      "metadata": {
        "id": "K0bvfEuQnmqH"
      },
      "execution_count": null,
      "outputs": []
    },
    {
      "cell_type": "code",
      "source": [
        "query = {\n",
        "  \"query\": { \"query_string\": { \n",
        "      \"query\": \"formType:\\\"10-K\\\" \" + \n",
        "               \"AND NOT formType:\\\"NT 10-K\\\" \" + \n",
        "               \"AND NOT formType:\\\"10-K/A\\\" \" +\n",
        "               \"AND filedAt:[2022-01-01 TO 2022-12-31]\",\n",
        "      \"time_zone\": \"America/New_York\"\n",
        "  } },\n",
        "  \"from\": \"0\",\n",
        "  \"size\": \"10\",\n",
        "  \"sort\": [{ \"filedAt\": { \"order\": \"desc\" } }]\n",
        "}\n",
        "\n",
        "response = queryApi.get_filings(query)"
      ],
      "metadata": {
        "id": "5gUDwK4onwNY"
      },
      "execution_count": null,
      "outputs": []
    },
    {
      "cell_type": "code",
      "source": [
        "# open the file we use to store the filing URLs\n",
        "log_file = open(\"filing_urls.txt\", \"a\")\n",
        "\n",
        "for from_batch in range(0, 30, 10):\n",
        "  # set new \"from\" starting position of search \n",
        "  #base_query[\"from\"] = from_batch;\n",
        "  query[\"from\"] = from_batch;\n",
        "  response = queryApi.get_filings(query)\n",
        "\n",
        "  # no more filings in search universe\n",
        "  if len(response[\"filings\"]) == 0:\n",
        "    break;\n",
        "\n",
        "  # for each filing, only save the URL pointing to the filing itself \n",
        "  # and ignore all other data. \n",
        "  # the URL is set in the dict key \"linkToFilingDetails\"\n",
        "  urls_list = list(map(lambda x: x[\"linkToFilingDetails\"], response[\"filings\"]))\n",
        "\n",
        "  # transform list of URLs into one string by joining all list elements\n",
        "  # and add a new-line character between each element.\n",
        "  urls_string = \"\\n\".join(urls_list) + \"\\n\"\n",
        "  \n",
        "  log_file.write(urls_string)\n",
        "\n",
        "print(\"Filing URLs downloaded for {year}-{month:02d}\".format(year=year, month=month))\n",
        "\n",
        "log_file.close()\n",
        "\n",
        "print(\"All URLs downloaded\")"
      ],
      "metadata": {
        "id": "J3X081WmCEud"
      },
      "execution_count": null,
      "outputs": []
    },
    {
      "cell_type": "markdown",
      "source": [
        "Let's inspect the Query API response and print a subset of properties of each filing, namely `formType` and `periodOfReport`. The filings live in the `response[\"filings\"]` list. \n",
        "\n",
        "Feel free to skip the next lines if you're familiar with the use of `map` and `lambda`. The `map` function applies the `lambda` function to every filing in the list of filings. The `lambda` function simply returns a new dict for each filing by extracting the `formType` and `periodOfReport` property from the filing, and setting both values as the values of the new dict. Finally, the result of the `map` function is converted into a new list. "
      ],
      "metadata": {
        "id": "rAnjAzIOs5RK"
      }
    },
    {
      "cell_type": "code",
      "source": [
        "list(map(lambda x: {\"formType\": x[\"formType\"], \"periodOfReport\": x[\"periodOfReport\"]}, response[\"filings\"]))"
      ],
      "metadata": {
        "colab": {
          "base_uri": "https://localhost:8080/"
        },
        "id": "1sHVNwjvrozO",
        "outputId": "e1ef9a56-9fb2-4fe1-e110-8ec45c4e3f05"
      },
      "execution_count": null,
      "outputs": [
        {
          "output_type": "execute_result",
          "data": {
            "text/plain": [
              "[{'formType': '10-K', 'periodOfReport': '2021-11-30'},\n",
              " {'formType': '10-K', 'periodOfReport': '2021-10-31'},\n",
              " {'formType': '10-K', 'periodOfReport': '2021-10-31'},\n",
              " {'formType': '10-K', 'periodOfReport': '2021-09-30'},\n",
              " {'formType': '10-K', 'periodOfReport': '2021-09-30'},\n",
              " {'formType': '10-K', 'periodOfReport': '2021-09-30'},\n",
              " {'formType': '10-K', 'periodOfReport': '2021-09-30'},\n",
              " {'formType': '10-K', 'periodOfReport': '2021-09-30'},\n",
              " {'formType': '10-K', 'periodOfReport': '2021-09-30'},\n",
              " {'formType': '10-K', 'periodOfReport': '2021-09-30'}]"
            ]
          },
          "metadata": {},
          "execution_count": 28
        }
      ]
    },
    {
      "cell_type": "code",
      "source": [
        "period_by_cik = {}\n",
        "period_by_ticker = {}\n",
        "\n",
        "for filing in response[\"filings\"]:\n",
        "  cik, ticker, periodOfReport = filing[\"cik\"], filing[\"ticker\"], filing[\"periodOfReport\"]\n",
        "\n",
        "  if not cik in period_by_cik:\n",
        "    period_by_cik[cik] = []\n",
        "\n",
        "  if not periodOfReport in period_by_cik[cik]:\n",
        "    period_by_cik[cik].append(periodOfReport)\n",
        "\n",
        "  if len(ticker) > 0:\n",
        "    if not ticker in period_by_ticker:\n",
        "      period_by_ticker[ticker] = []\n",
        "\n",
        "    if not periodOfReport in period_by_ticker[ticker]:\n",
        "      period_by_ticker[ticker].append(periodOfReport)"
      ],
      "metadata": {
        "id": "BQIKItfzoS7h"
      },
      "execution_count": null,
      "outputs": []
    },
    {
      "cell_type": "code",
      "source": [
        "period_by_cik"
      ],
      "metadata": {
        "colab": {
          "base_uri": "https://localhost:8080/"
        },
        "id": "8DM91H6BpGfg",
        "outputId": "e4c0b4da-179b-40da-bf3c-a97ca066edbc"
      },
      "execution_count": null,
      "outputs": [
        {
          "output_type": "execute_result",
          "data": {
            "text/plain": [
              "{'1206942': ['2021-10-31'],\n",
              " '1341726': ['2021-09-30'],\n",
              " '1377167': ['2021-09-30'],\n",
              " '1435181': ['2021-09-30'],\n",
              " '1502966': ['2021-09-30'],\n",
              " '1592782': ['2021-09-30'],\n",
              " '1725516': ['2021-11-30'],\n",
              " '1844817': ['2021-09-30'],\n",
              " '1853314': ['2021-09-30'],\n",
              " '72633': ['2021-10-31']}"
            ]
          },
          "metadata": {},
          "execution_count": 21
        }
      ]
    },
    {
      "cell_type": "code",
      "source": [
        "period_by_ticker"
      ],
      "metadata": {
        "colab": {
          "base_uri": "https://localhost:8080/"
        },
        "id": "xoJrkYpBpucf",
        "outputId": "d0a457e2-68b2-4ee2-e74e-4b376599f09b"
      },
      "execution_count": null,
      "outputs": [
        {
          "output_type": "execute_result",
          "data": {
            "text/plain": [
              "{'AACI': ['2021-09-30'],\n",
              " 'DIGP': ['2021-09-30'],\n",
              " 'FGCO': ['2021-09-30'],\n",
              " 'GIAC': ['2021-09-30'],\n",
              " 'GSPE': ['2021-09-30'],\n",
              " 'NBLD': ['2021-11-30'],\n",
              " 'NRT': ['2021-10-31'],\n",
              " 'NUKK': ['2021-09-30'],\n",
              " 'PHBI': ['2021-09-30']}"
            ]
          },
          "metadata": {},
          "execution_count": 22
        }
      ]
    }
  ]
}