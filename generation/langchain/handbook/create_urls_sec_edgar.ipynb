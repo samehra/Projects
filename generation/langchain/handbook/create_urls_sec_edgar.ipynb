{
  "nbformat": 4,
  "nbformat_minor": 0,
  "metadata": {
    "colab": {
      "name": "create_urls_sec_edgar.ipynb",
      "provenance": [],
      "include_colab_link": true
    },
    "kernelspec": {
      "name": "python3",
      "display_name": "Python 3"
    },
    "language_info": {
      "name": "python"
    }
  },
  "cells": [
    {
      "cell_type": "markdown",
      "metadata": {
        "id": "view-in-github",
        "colab_type": "text"
      },
      "source": [
        "<a href=\"https://colab.research.google.com/github/samehra/Projects/blob/master/generation/langchain/handbook/create_urls_sec_edgar.ipynb\" target=\"_parent\"><img src=\"https://colab.research.google.com/assets/colab-badge.svg\" alt=\"Open In Colab\"/></a>"
      ]
    },
    {
      "cell_type": "code",
      "execution_count": 1,
      "metadata": {
        "id": "wRURdE3ynhPy",
        "colab": {
          "base_uri": "https://localhost:8080/"
        },
        "outputId": "b03ed7da-34f2-4c55-d829-eb284dfedb9c"
      },
      "outputs": [
        {
          "output_type": "stream",
          "name": "stdout",
          "text": [
            "Looking in indexes: https://pypi.org/simple, https://us-python.pkg.dev/colab-wheels/public/simple/\n",
            "Collecting sec-api\n",
            "  Downloading sec_api-1.0.15-py3-none-any.whl (15 kB)\n",
            "Requirement already satisfied: requests in /usr/local/lib/python3.9/dist-packages (from sec-api) (2.27.1)\n",
            "Requirement already satisfied: idna<4,>=2.5 in /usr/local/lib/python3.9/dist-packages (from requests->sec-api) (3.4)\n",
            "Requirement already satisfied: urllib3<1.27,>=1.21.1 in /usr/local/lib/python3.9/dist-packages (from requests->sec-api) (1.26.15)\n",
            "Requirement already satisfied: charset-normalizer~=2.0.0 in /usr/local/lib/python3.9/dist-packages (from requests->sec-api) (2.0.12)\n",
            "Requirement already satisfied: certifi>=2017.4.17 in /usr/local/lib/python3.9/dist-packages (from requests->sec-api) (2022.12.7)\n",
            "Installing collected packages: sec-api\n",
            "Successfully installed sec-api-1.0.15\n"
          ]
        }
      ],
      "source": [
        "!pip install sec-api"
      ]
    },
    {
      "cell_type": "code",
      "source": [
        "from sec_api import QueryApi\n",
        "\n",
        "queryApi = QueryApi(api_key=\"YOUR_API_KEY\")"
      ],
      "metadata": {
        "id": "K0bvfEuQnmqH"
      },
      "execution_count": 3,
      "outputs": []
    },
    {
      "cell_type": "code",
      "source": [
        "query = {\n",
        "  \"query\": { \"query_string\": { \n",
        "      \"query\": \"formType:\\\"10-K\\\" \" + \n",
        "               \"AND NOT formType:\\\"NT 10-K\\\" \" + \n",
        "               \"AND NOT formType:\\\"10-K/A\\\" \" +\n",
        "               \"AND filedAt:[2022-01-01 TO 2022-12-31]\",\n",
        "      \"time_zone\": \"America/New_York\"\n",
        "  } },\n",
        "  \"from\": \"0\",\n",
        "  \"size\": \"10\",\n",
        "  \"sort\": [{ \"filedAt\": { \"order\": \"desc\" } }]\n",
        "}\n",
        "\n",
        "#response = queryApi.get_filings(query)"
      ],
      "metadata": {
        "id": "5gUDwK4onwNY"
      },
      "execution_count": 4,
      "outputs": []
    },
    {
      "cell_type": "code",
      "source": [
        "# open the file we use to store the filing URLs\n",
        "log_file = open(\"filing_urls.txt\", \"a\")\n",
        "\n",
        "for from_batch in range(0, 30, 10):\n",
        "  # set new \"from\" starting position of search \n",
        "  #base_query[\"from\"] = from_batch;\n",
        "  query[\"from\"] = from_batch;\n",
        "  response = queryApi.get_filings(query)\n",
        "\n",
        "  # no more filings in search universe\n",
        "  if len(response[\"filings\"]) == 0:\n",
        "    break;\n",
        "\n",
        "  # for each filing, only save the URL pointing to the filing itself \n",
        "  # and ignore all other data. \n",
        "  # the URL is set in the dict key \"linkToFilingDetails\"\n",
        "  urls_list = list(map(lambda x: x[\"linkToFilingDetails\"], response[\"filings\"]))\n",
        "\n",
        "  # transform list of URLs into one string by joining all list elements\n",
        "  # and add a new-line character between each element.\n",
        "  urls_string = \"\\n\".join(urls_list) + \"\\n\"\n",
        "  \n",
        "  log_file.write(urls_string)\n",
        "  \n",
        "log_file.close()\n",
        "\n",
        "print(\"All URLs downloaded\")"
      ],
      "metadata": {
        "colab": {
          "base_uri": "https://localhost:8080/"
        },
        "id": "J3X081WmCEud",
        "outputId": "64a694ae-8ffd-4aba-ba8e-b7c735f7f6c0"
      },
      "execution_count": 8,
      "outputs": [
        {
          "output_type": "stream",
          "name": "stdout",
          "text": [
            "All URLs downloaded\n"
          ]
        }
      ]
    },
    {
      "cell_type": "code",
      "source": [
        "from sec_api import ExtractorApi\n",
        "\n",
        "extractorApi = ExtractorApi(\"YOUR_API_KEY\")"
      ],
      "metadata": {
        "id": "Nk4K7qfwEIDf"
      },
      "execution_count": 14,
      "outputs": []
    },
    {
      "cell_type": "code",
      "source": [
        "# download filing and save to \"filings\" folder\n",
        "def download_filing(filing_url):\n",
        "\n",
        "  items = [\"1\", \"6\", \"7\", \"7A\"]\n",
        "\n",
        "  for item in items:\n",
        "    print(\"item:\", item, \"url\", filing_url)\n",
        "\n",
        "    try:\n",
        "      section_text = extractorApi.get_section(filing_url=filing_url, \n",
        "                                              section=item, \n",
        "                                              return_type=\"text\")\n",
        "\n",
        "      # file_name example: 000156459019027952-msft-10k_20190630.htm\n",
        "      file_name = filing_url.split(\"/\")[-3] + \"-\" + filing_url.split(\"/\")[-2] + \"-\" + filing_url.split(\"/\")[-1] \n",
        "      download_to = \"./filings/\" + file_name\n",
        "      with open(download_to, \"w\") as f:\n",
        "        f.write(section_text + \"\\n\")\n",
        "\n",
        "    except Exception as e:\n",
        "      print(\"Problem with {url}\".format(filing_url=filing_url))\n",
        "      print(e)"
      ],
      "metadata": {
        "id": "KghbM_RdEIrD"
      },
      "execution_count": 21,
      "outputs": []
    },
    {
      "cell_type": "code",
      "source": [
        "# load URLs from log file\n",
        "def load_urls():\n",
        "  log_file = open(\"filing_urls.txt\", \"r\")\n",
        "  urls = log_file.read().split(\"\\n\") # convert long string of URLs into a list \n",
        "  log_file.close()\n",
        "  return urls"
      ],
      "metadata": {
        "id": "3xL_OCheELTn"
      },
      "execution_count": 22,
      "outputs": []
    },
    {
      "cell_type": "code",
      "source": [
        "urls[0]"
      ],
      "metadata": {
        "id": "_fcnvtPmN5OL",
        "outputId": "adaf3f6f-4041-4efa-8aad-2ee3434d42c2",
        "colab": {
          "base_uri": "https://localhost:8080/",
          "height": 42
        }
      },
      "execution_count": 23,
      "outputs": [
        {
          "output_type": "execute_result",
          "data": {
            "text/plain": [
              "'https://www.sec.gov/Archives/edgar/data/1374881/000147793222009583/king_10k.htm'"
            ],
            "application/vnd.google.colaboratory.intrinsic+json": {
              "type": "string"
            }
          },
          "metadata": {},
          "execution_count": 23
        }
      ]
    },
    {
      "cell_type": "code",
      "source": [
        "import os\n",
        "import multiprocessing\n",
        "\n",
        "def download_all_filings():\n",
        "  print(\"Start downloading all filings\")\n",
        "\n",
        "  download_folder = \"./filings\" \n",
        "  if not os.path.isdir(download_folder):\n",
        "    os.makedirs(download_folder)\n",
        "    \n",
        "  # uncomment next line to process all URLs\n",
        "  # urls = load_urls()\n",
        "  #urls = load_urls()[0:40]\n",
        "  urls = load_urls()[0]\n",
        "  print(\"{length} filing URLs loaded\".format(length=len(urls)))\n",
        "\n",
        "  number_of_processes = 20\n",
        "\n",
        "  with multiprocessing.Pool(number_of_processes) as pool:\n",
        "    pool.map(download_filing, urls)\n",
        "  \n",
        "  print(\"All filings downloaded\")"
      ],
      "metadata": {
        "id": "XsQiCoccEd19"
      },
      "execution_count": 24,
      "outputs": []
    },
    {
      "cell_type": "code",
      "source": [
        "download_all_filings()"
      ],
      "metadata": {
        "id": "fW58xL4SEel6",
        "outputId": "d134ed37-ef9d-43dd-9c37-cb567870237b",
        "colab": {
          "base_uri": "https://localhost:8080/",
          "height": 1000
        }
      },
      "execution_count": 25,
      "outputs": [
        {
          "output_type": "stream",
          "name": "stdout",
          "text": [
            "Start downloading all filings\n",
            "79 filing URLs loaded\n",
            "item:item:item:item:item:   item:  111  item: item:item:item:urlitem:urlitem:item:item:11item:item:item: item:item:item:url        1        1 1  11t/11url1 11 url111 11:  \n",
            "   \n",
            " url     urlurlurl url \n",
            "url wurlurl urlurlurlurl  purl url  \n",
            "url hv     s \n",
            ".e  w\n",
            "s.gc\n",
            "\n",
            "w\n",
            "o/\n",
            "\n",
            "t/\n",
            "\n",
            "\n",
            "\n",
            "\n",
            "\n",
            "\n",
            "\n",
            "\n",
            "item:item: 1item:   item:11url item: item:  item:item:1urlurlA      \n",
            "item:  1111urlcr1 \n",
            "    \n",
            " urlurlhurlurlurl\n",
            "     evsi/\n",
            "\n",
            "\n",
            "\n",
            "\n",
            "item: 1 url eitem:\n",
            "item: item:1   1url1 url  url a\n",
            " item:g\n",
            "d 1\n",
            " urlitem: r \n",
            "1item: 1  urlurl  d/\n",
            "\n",
            "item: 1 url a\n",
            "item:item: 1  1item:url   1urlt\n",
            "  urlitem: a/ \n",
            "\n",
            "1item: item:  item:1url1    1url 1 urlurl \n",
            " 743\n",
            "\n",
            "\n",
            "item: 1 url 8\n",
            "item: 1 url 8\n",
            "item:item:  1 url /\n",
            "1 item:url 1\n",
            "item: item:item:1 url 1   101\n",
            "   url 0\n",
            "url url 10\n",
            "\n",
            "item: 1 url 4\n",
            "item: 71 item:url  \n",
            "1item:item:  url1   1url 9item:  \n",
            "7url\n",
            "1  url3 \n",
            "item:item: item:  1211\n",
            " url  url url  202\n",
            "\n",
            "\n",
            "item: 1 url 0\n",
            "item: 1item:  item:url1 item:1  item:url 9url \n",
            "item:  18 1 \n",
            " 51 urlurl \n",
            " /\n",
            " url item:k 1 3\n",
            "url\n",
            " i\n",
            "item: 1 url nitem:item:\n",
            "  item:1 1 urlitem:  11 1\n",
            "url  url  _url\n",
            "gitem: item: \n",
            " 0\n",
            "11 urlitem:   k1url \n",
            " url .\n",
            "h\n",
            "item: 1 url t\n",
            "item: 1 url m\n"
          ]
        },
        {
          "output_type": "error",
          "ename": "KeyError",
          "evalue": "ignored",
          "traceback": [
            "\u001b[0;31m---------------------------------------------------------------------------\u001b[0m",
            "\u001b[0;31mRemoteTraceback\u001b[0m                           Traceback (most recent call last)",
            "\u001b[0;31mRemoteTraceback\u001b[0m: \n\"\"\"\nTraceback (most recent call last):\n  File \"<ipython-input-21-c91e30229e2b>\", line 10, in download_filing\n    section_text = extractorApi.get_section(filing_url=filing_url,\n  File \"/usr/local/lib/python3.9/dist-packages/sec_api/index.py\", line 179, in get_section\n    handle_api_error(response)\n  File \"/usr/local/lib/python3.9/dist-packages/sec_api/index.py\", line 21, in handle_api_error\n    raise Exception(\"API error: {} - {}\".format(response.status_code, response.text))\nException: API error: 404 - {\"status\":404,\"error\":\"request failed\"}\n\nDuring handling of the above exception, another exception occurred:\n\nTraceback (most recent call last):\n  File \"/usr/lib/python3.9/multiprocessing/pool.py\", line 125, in worker\n    result = (True, func(*args, **kwds))\n  File \"/usr/lib/python3.9/multiprocessing/pool.py\", line 48, in mapstar\n    return list(map(*args))\n  File \"<ipython-input-21-c91e30229e2b>\", line 21, in download_filing\n    print(\"Problem with {url}\".format(filing_url=filing_url))\nKeyError: 'url'\n\"\"\"",
            "\nThe above exception was the direct cause of the following exception:\n",
            "\u001b[0;31mKeyError\u001b[0m                                  Traceback (most recent call last)",
            "\u001b[0;32m<ipython-input-25-31b8d5f6674b>\u001b[0m in \u001b[0;36m<cell line: 1>\u001b[0;34m()\u001b[0m\n\u001b[0;32m----> 1\u001b[0;31m \u001b[0mdownload_all_filings\u001b[0m\u001b[0;34m(\u001b[0m\u001b[0;34m)\u001b[0m\u001b[0;34m\u001b[0m\u001b[0;34m\u001b[0m\u001b[0m\n\u001b[0m",
            "\u001b[0;32m<ipython-input-24-ac7eb54ceb07>\u001b[0m in \u001b[0;36mdownload_all_filings\u001b[0;34m()\u001b[0m\n\u001b[1;32m     18\u001b[0m \u001b[0;34m\u001b[0m\u001b[0m\n\u001b[1;32m     19\u001b[0m   \u001b[0;32mwith\u001b[0m \u001b[0mmultiprocessing\u001b[0m\u001b[0;34m.\u001b[0m\u001b[0mPool\u001b[0m\u001b[0;34m(\u001b[0m\u001b[0mnumber_of_processes\u001b[0m\u001b[0;34m)\u001b[0m \u001b[0;32mas\u001b[0m \u001b[0mpool\u001b[0m\u001b[0;34m:\u001b[0m\u001b[0;34m\u001b[0m\u001b[0;34m\u001b[0m\u001b[0m\n\u001b[0;32m---> 20\u001b[0;31m     \u001b[0mpool\u001b[0m\u001b[0;34m.\u001b[0m\u001b[0mmap\u001b[0m\u001b[0;34m(\u001b[0m\u001b[0mdownload_filing\u001b[0m\u001b[0;34m,\u001b[0m \u001b[0murls\u001b[0m\u001b[0;34m)\u001b[0m\u001b[0;34m\u001b[0m\u001b[0;34m\u001b[0m\u001b[0m\n\u001b[0m\u001b[1;32m     21\u001b[0m \u001b[0;34m\u001b[0m\u001b[0m\n\u001b[1;32m     22\u001b[0m   \u001b[0mprint\u001b[0m\u001b[0;34m(\u001b[0m\u001b[0;34m\"All filings downloaded\"\u001b[0m\u001b[0;34m)\u001b[0m\u001b[0;34m\u001b[0m\u001b[0;34m\u001b[0m\u001b[0m\n",
            "\u001b[0;32m/usr/lib/python3.9/multiprocessing/pool.py\u001b[0m in \u001b[0;36mmap\u001b[0;34m(self, func, iterable, chunksize)\u001b[0m\n\u001b[1;32m    362\u001b[0m         \u001b[0;32min\u001b[0m \u001b[0ma\u001b[0m \u001b[0mlist\u001b[0m \u001b[0mthat\u001b[0m \u001b[0;32mis\u001b[0m \u001b[0mreturned\u001b[0m\u001b[0;34m.\u001b[0m\u001b[0;34m\u001b[0m\u001b[0;34m\u001b[0m\u001b[0m\n\u001b[1;32m    363\u001b[0m         '''\n\u001b[0;32m--> 364\u001b[0;31m         \u001b[0;32mreturn\u001b[0m \u001b[0mself\u001b[0m\u001b[0;34m.\u001b[0m\u001b[0m_map_async\u001b[0m\u001b[0;34m(\u001b[0m\u001b[0mfunc\u001b[0m\u001b[0;34m,\u001b[0m \u001b[0miterable\u001b[0m\u001b[0;34m,\u001b[0m \u001b[0mmapstar\u001b[0m\u001b[0;34m,\u001b[0m \u001b[0mchunksize\u001b[0m\u001b[0;34m)\u001b[0m\u001b[0;34m.\u001b[0m\u001b[0mget\u001b[0m\u001b[0;34m(\u001b[0m\u001b[0;34m)\u001b[0m\u001b[0;34m\u001b[0m\u001b[0;34m\u001b[0m\u001b[0m\n\u001b[0m\u001b[1;32m    365\u001b[0m \u001b[0;34m\u001b[0m\u001b[0m\n\u001b[1;32m    366\u001b[0m     \u001b[0;32mdef\u001b[0m \u001b[0mstarmap\u001b[0m\u001b[0;34m(\u001b[0m\u001b[0mself\u001b[0m\u001b[0;34m,\u001b[0m \u001b[0mfunc\u001b[0m\u001b[0;34m,\u001b[0m \u001b[0miterable\u001b[0m\u001b[0;34m,\u001b[0m \u001b[0mchunksize\u001b[0m\u001b[0;34m=\u001b[0m\u001b[0;32mNone\u001b[0m\u001b[0;34m)\u001b[0m\u001b[0;34m:\u001b[0m\u001b[0;34m\u001b[0m\u001b[0;34m\u001b[0m\u001b[0m\n",
            "\u001b[0;32m/usr/lib/python3.9/multiprocessing/pool.py\u001b[0m in \u001b[0;36mget\u001b[0;34m(self, timeout)\u001b[0m\n\u001b[1;32m    769\u001b[0m             \u001b[0;32mreturn\u001b[0m \u001b[0mself\u001b[0m\u001b[0;34m.\u001b[0m\u001b[0m_value\u001b[0m\u001b[0;34m\u001b[0m\u001b[0;34m\u001b[0m\u001b[0m\n\u001b[1;32m    770\u001b[0m         \u001b[0;32melse\u001b[0m\u001b[0;34m:\u001b[0m\u001b[0;34m\u001b[0m\u001b[0;34m\u001b[0m\u001b[0m\n\u001b[0;32m--> 771\u001b[0;31m             \u001b[0;32mraise\u001b[0m \u001b[0mself\u001b[0m\u001b[0;34m.\u001b[0m\u001b[0m_value\u001b[0m\u001b[0;34m\u001b[0m\u001b[0;34m\u001b[0m\u001b[0m\n\u001b[0m\u001b[1;32m    772\u001b[0m \u001b[0;34m\u001b[0m\u001b[0m\n\u001b[1;32m    773\u001b[0m     \u001b[0;32mdef\u001b[0m \u001b[0m_set\u001b[0m\u001b[0;34m(\u001b[0m\u001b[0mself\u001b[0m\u001b[0;34m,\u001b[0m \u001b[0mi\u001b[0m\u001b[0;34m,\u001b[0m \u001b[0mobj\u001b[0m\u001b[0;34m)\u001b[0m\u001b[0;34m:\u001b[0m\u001b[0;34m\u001b[0m\u001b[0;34m\u001b[0m\u001b[0m\n",
            "\u001b[0;31mKeyError\u001b[0m: 'url'"
          ]
        }
      ]
    },
    {
      "cell_type": "markdown",
      "source": [
        "Let's inspect the Query API response and print a subset of properties of each filing, namely `formType` and `periodOfReport`. The filings live in the `response[\"filings\"]` list. \n",
        "\n",
        "Feel free to skip the next lines if you're familiar with the use of `map` and `lambda`. The `map` function applies the `lambda` function to every filing in the list of filings. The `lambda` function simply returns a new dict for each filing by extracting the `formType` and `periodOfReport` property from the filing, and setting both values as the values of the new dict. Finally, the result of the `map` function is converted into a new list. "
      ],
      "metadata": {
        "id": "rAnjAzIOs5RK"
      }
    },
    {
      "cell_type": "code",
      "source": [
        "list(map(lambda x: {\"formType\": x[\"formType\"], \"periodOfReport\": x[\"periodOfReport\"]}, response[\"filings\"]))"
      ],
      "metadata": {
        "colab": {
          "base_uri": "https://localhost:8080/"
        },
        "id": "1sHVNwjvrozO",
        "outputId": "e1ef9a56-9fb2-4fe1-e110-8ec45c4e3f05"
      },
      "execution_count": null,
      "outputs": [
        {
          "output_type": "execute_result",
          "data": {
            "text/plain": [
              "[{'formType': '10-K', 'periodOfReport': '2021-11-30'},\n",
              " {'formType': '10-K', 'periodOfReport': '2021-10-31'},\n",
              " {'formType': '10-K', 'periodOfReport': '2021-10-31'},\n",
              " {'formType': '10-K', 'periodOfReport': '2021-09-30'},\n",
              " {'formType': '10-K', 'periodOfReport': '2021-09-30'},\n",
              " {'formType': '10-K', 'periodOfReport': '2021-09-30'},\n",
              " {'formType': '10-K', 'periodOfReport': '2021-09-30'},\n",
              " {'formType': '10-K', 'periodOfReport': '2021-09-30'},\n",
              " {'formType': '10-K', 'periodOfReport': '2021-09-30'},\n",
              " {'formType': '10-K', 'periodOfReport': '2021-09-30'}]"
            ]
          },
          "metadata": {},
          "execution_count": 28
        }
      ]
    },
    {
      "cell_type": "code",
      "source": [
        "period_by_cik = {}\n",
        "period_by_ticker = {}\n",
        "\n",
        "for filing in response[\"filings\"]:\n",
        "  cik, ticker, periodOfReport = filing[\"cik\"], filing[\"ticker\"], filing[\"periodOfReport\"]\n",
        "\n",
        "  if not cik in period_by_cik:\n",
        "    period_by_cik[cik] = []\n",
        "\n",
        "  if not periodOfReport in period_by_cik[cik]:\n",
        "    period_by_cik[cik].append(periodOfReport)\n",
        "\n",
        "  if len(ticker) > 0:\n",
        "    if not ticker in period_by_ticker:\n",
        "      period_by_ticker[ticker] = []\n",
        "\n",
        "    if not periodOfReport in period_by_ticker[ticker]:\n",
        "      period_by_ticker[ticker].append(periodOfReport)"
      ],
      "metadata": {
        "id": "BQIKItfzoS7h"
      },
      "execution_count": null,
      "outputs": []
    },
    {
      "cell_type": "code",
      "source": [
        "period_by_cik"
      ],
      "metadata": {
        "colab": {
          "base_uri": "https://localhost:8080/"
        },
        "id": "8DM91H6BpGfg",
        "outputId": "e4c0b4da-179b-40da-bf3c-a97ca066edbc"
      },
      "execution_count": null,
      "outputs": [
        {
          "output_type": "execute_result",
          "data": {
            "text/plain": [
              "{'1206942': ['2021-10-31'],\n",
              " '1341726': ['2021-09-30'],\n",
              " '1377167': ['2021-09-30'],\n",
              " '1435181': ['2021-09-30'],\n",
              " '1502966': ['2021-09-30'],\n",
              " '1592782': ['2021-09-30'],\n",
              " '1725516': ['2021-11-30'],\n",
              " '1844817': ['2021-09-30'],\n",
              " '1853314': ['2021-09-30'],\n",
              " '72633': ['2021-10-31']}"
            ]
          },
          "metadata": {},
          "execution_count": 21
        }
      ]
    },
    {
      "cell_type": "code",
      "source": [
        "period_by_ticker"
      ],
      "metadata": {
        "colab": {
          "base_uri": "https://localhost:8080/"
        },
        "id": "xoJrkYpBpucf",
        "outputId": "d0a457e2-68b2-4ee2-e74e-4b376599f09b"
      },
      "execution_count": null,
      "outputs": [
        {
          "output_type": "execute_result",
          "data": {
            "text/plain": [
              "{'AACI': ['2021-09-30'],\n",
              " 'DIGP': ['2021-09-30'],\n",
              " 'FGCO': ['2021-09-30'],\n",
              " 'GIAC': ['2021-09-30'],\n",
              " 'GSPE': ['2021-09-30'],\n",
              " 'NBLD': ['2021-11-30'],\n",
              " 'NRT': ['2021-10-31'],\n",
              " 'NUKK': ['2021-09-30'],\n",
              " 'PHBI': ['2021-09-30']}"
            ]
          },
          "metadata": {},
          "execution_count": 22
        }
      ]
    }
  ]
}