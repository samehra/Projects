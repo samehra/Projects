from agents import Agent, Runner
import os
from dotenv import load_dotenv
from agents import set_default_openai_key
