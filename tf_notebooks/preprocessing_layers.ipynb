{
  "cells": [
    {
      "cell_type": "markdown",
      "metadata": {
        "id": "view-in-github",
        "colab_type": "text"
      },
      "source": [
        "<a href=\"https://colab.research.google.com/github/samehra/Projects/blob/master/tf_notebooks/preprocessing_layers.ipynb\" target=\"_parent\"><img src=\"https://colab.research.google.com/assets/colab-badge.svg\" alt=\"Open In Colab\"/></a>"
      ]
    },
    {
      "cell_type": "markdown",
      "metadata": {
        "id": "zg02FZzDyEqd"
      },
      "source": [
        "##### Copyright 2019 The TensorFlow Authors.\n"
      ]
    },
    {
      "cell_type": "code",
      "execution_count": null,
      "metadata": {
        "cellView": "form",
        "id": "2mapZ9afGJ69"
      },
      "outputs": [],
      "source": [
        "#@title Licensed under the Apache License, Version 2.0 (the \"License\");\n",
        "# you may not use this file except in compliance with the License.\n",
        "# You may obtain a copy of the License at\n",
        "#\n",
        "# https://www.apache.org/licenses/LICENSE-2.0\n",
        "#\n",
        "# Unless required by applicable law or agreed to in writing, software\n",
        "# distributed under the License is distributed on an \"AS IS\" BASIS,\n",
        "# WITHOUT WARRANTIES OR CONDITIONS OF ANY KIND, either express or implied.\n",
        "# See the License for the specific language governing permissions and\n",
        "# limitations under the License."
      ]
    },
    {
      "cell_type": "markdown",
      "metadata": {
        "id": "sMYQvJuBi7MS"
      },
      "source": [
        "# Classify structured data using Keras preprocessing layers"
      ]
    },
    {
      "cell_type": "markdown",
      "metadata": {
        "id": "8FaL4wnr22oy"
      },
      "source": [
        "<table class=\"tfo-notebook-buttons\" align=\"left\">\n",
        "  <td>\n",
        "    <a target=\"_blank\" href=\"https://www.tensorflow.org/tutorials/structured_data/preprocessing_layers\">\n",
        "    <img src=\"https://www.tensorflow.org/images/tf_logo_32px.png\" />\n",
        "    View on TensorFlow.org</a>\n",
        "  </td>\n",
        "  <td>\n",
        "    <a target=\"_blank\" href=\"https://colab.research.google.com/github/tensorflow/docs/blob/master/site/en/tutorials/structured_data/preprocessing_layers.ipynb\">\n",
        "    <img src=\"https://www.tensorflow.org/images/colab_logo_32px.png\" />\n",
        "    Run in Google Colab</a>\n",
        "  </td>\n",
        "  <td>\n",
        "    <a target=\"_blank\" href=\"https://github.com/tensorflow/docs/blob/master/site/en/tutorials/structured_data/preprocessing_layers.ipynb\">\n",
        "    <img src=\"https://www.tensorflow.org/images/GitHub-Mark-32px.png\" />\n",
        "    View source on GitHub</a>\n",
        "  </td>\n",
        "  <td>\n",
        "    <a href=\"https://storage.googleapis.com/tensorflow_docs/docs/site/en/tutorials/structured_data/preprocessing_layers.ipynb\"><img src=\"https://www.tensorflow.org/images/download_logo_32px.png\" />Download notebook</a>\n",
        "  </td>\n",
        "</table>"
      ]
    },
    {
      "cell_type": "markdown",
      "metadata": {
        "id": "Nna1tOKxyEqe"
      },
      "source": [
        "This tutorial demonstrates how to classify structured data, such as tabular data, using a simplified version of the <a href=\"https://www.kaggle.com/c/petfinder-adoption-prediction\" class=\"external\">PetFinder dataset from a Kaggle competition</a> stored in a CSV file.\n",
        "\n",
        "You will use [Keras](https://www.tensorflow.org/guide/keras) to define the model, and [Keras preprocessing layers](https://www.tensorflow.org/guide/keras/preprocessing_layers) as a bridge to map from columns in a CSV file to features used to train the model. The goal is to predict if a pet will be adopted.\n",
        "\n",
        "This tutorial contains complete code for:\n",
        "\n",
        "* Loading a CSV file into a <a href=\"https://pandas.pydata.org/docs/reference/api/pandas.DataFrame.html\" class=\"external\">DataFrame</a> using <a href=\"https://pandas.pydata.org/\" class=\"external\">pandas</a>.\n",
        "* Building an input pipeline to batch and shuffle the rows using `tf.data`. (Visit [tf.data: Build TensorFlow input pipelines](../../guide/data.ipynb) for more details.)\n",
        "* Mapping from columns in the CSV file to features used to train the model with the Keras preprocessing layers.\n",
        "* Building, training, and evaluating a model using the Keras built-in methods."
      ]
    },
    {
      "cell_type": "markdown",
      "metadata": {
        "id": "h5xkXCicjFQD"
      },
      "source": [
        "Note: This tutorial is similar to [Classify structured data with feature columns](../structured_data/feature_columns.ipynb). This version uses the [Keras preprocessing layers](https://www.tensorflow.org/guide/keras/preprocessing_layers) instead of the `tf.feature_column` API, as the former are more intuitive and can be easily included inside your model to simplify deployment."
      ]
    },
    {
      "cell_type": "markdown",
      "metadata": {
        "id": "ZHxU1FMNpomc"
      },
      "source": [
        "## The PetFinder.my mini dataset\n",
        "\n",
        "There are several thousand rows in the PetFinder.my mini's CSV dataset file, where each row describes a pet (a dog or a cat) and each column describes an attribute, such as age, breed, color, and so on.\n",
        "\n",
        "In the dataset's summary below, notice there are mostly numerical and categorical columns. In this tutorial, you will only be dealing with those two feature types, dropping `Description` (a free text feature) and `AdoptionSpeed` (a classification feature) during data preprocessing.\n",
        "\n",
        "| Column          | Pet description               | Feature type   | Data type |\n",
        "| --------------- | ----------------------------- | -------------- | --------- |\n",
        "| `Type`          | Type of animal (`Dog`, `Cat`) | Categorical    | String    |\n",
        "| `Age`           | Age                           | Numerical      | Integer   |\n",
        "| `Breed1`        | Primary breed                 | Categorical    | String    |\n",
        "| `Color1`        | Color 1                       | Categorical    | String    |\n",
        "| `Color2`        | Color 2                       | Categorical    | String    |\n",
        "| `MaturitySize`  | Size at maturity              | Categorical    | String    |\n",
        "| `FurLength`     | Fur length                    | Categorical    | String    |\n",
        "| `Vaccinated`    | Pet has been vaccinated       | Categorical    | String    |\n",
        "| `Sterilized`    | Pet has been sterilized       | Categorical    | String    |\n",
        "| `Health`        | Health condition              | Categorical    | String    |\n",
        "| `Fee`           | Adoption fee                  | Numerical      | Integer   |\n",
        "| `Description`   | Profile write-up              | Text           | String    |\n",
        "| `PhotoAmt`      | Total uploaded photos         | Numerical      | Integer   |\n",
        "| `AdoptionSpeed` | Categorical speed of adoption | Classification | Integer   |"
      ]
    },
    {
      "cell_type": "markdown",
      "metadata": {
        "id": "vjFbdBldyEqf"
      },
      "source": [
        "## Import TensorFlow and other libraries\n"
      ]
    },
    {
      "cell_type": "code",
      "execution_count": 32,
      "metadata": {
        "id": "LklnLlt6yEqf"
      },
      "outputs": [],
      "source": [
        "import numpy as np\n",
        "import pandas as pd\n",
        "import tensorflow as tf\n",
        "\n",
        "from tensorflow.keras import layers\n",
        "from sklearn.metrics import (\n",
        "    accuracy_score,\n",
        "    classification_report,\n",
        "    cohen_kappa_score,\n",
        "    confusion_matrix,\n",
        "    recall_score,\n",
        "    roc_auc_score,\n",
        "    precision_recall_curve,\n",
        "    roc_curve,\n",
        "    precision_score, f1_score\n",
        ")"
      ]
    },
    {
      "cell_type": "code",
      "execution_count": 2,
      "metadata": {
        "id": "TKU7RyoQGVKB",
        "colab": {
          "base_uri": "https://localhost:8080/",
          "height": 42
        },
        "outputId": "e2e9baca-e48e-4b18-c1a2-04ee89099006"
      },
      "outputs": [
        {
          "output_type": "execute_result",
          "data": {
            "text/plain": [
              "'2.12.0'"
            ],
            "application/vnd.google.colaboratory.intrinsic+json": {
              "type": "string"
            }
          },
          "metadata": {},
          "execution_count": 2
        }
      ],
      "source": [
        "tf.__version__"
      ]
    },
    {
      "cell_type": "markdown",
      "metadata": {
        "id": "UXvBvobayEqi"
      },
      "source": [
        "## Load the dataset and read it into a pandas DataFrame\n",
        "\n",
        "<a href=\"https://pandas.pydata.org/\" class=\"external\">pandas</a> is a Python library with many helpful utilities for loading and working with structured data. Use `tf.keras.utils.get_file` to download and extract the CSV file with the PetFinder.my mini dataset, and load it into a <a href=\"https://pandas.pydata.org/docs/reference/api/pandas.DataFrame.html\" class=\"external\">DataFrame</a> with <a href=\"https://pandas.pydata.org/docs/reference/api/pandas.read_csv.html\" class=\"external\">`pandas.read_csv`</a>:"
      ]
    },
    {
      "cell_type": "code",
      "execution_count": 3,
      "metadata": {
        "id": "qJ4Ajn-YyEqj",
        "outputId": "f156db95-1bec-4ca9-e937-4566c8edffa4",
        "colab": {
          "base_uri": "https://localhost:8080/"
        }
      },
      "outputs": [
        {
          "output_type": "stream",
          "name": "stdout",
          "text": [
            "Downloading data from http://storage.googleapis.com/download.tensorflow.org/data/petfinder-mini.zip\n",
            "1668792/1668792 [==============================] - 0s 0us/step\n"
          ]
        }
      ],
      "source": [
        "dataset_url = 'http://storage.googleapis.com/download.tensorflow.org/data/petfinder-mini.zip'\n",
        "csv_file = 'datasets/petfinder-mini/petfinder-mini.csv'\n",
        "\n",
        "tf.keras.utils.get_file('petfinder_mini.zip', dataset_url,\n",
        "                        extract=True, cache_dir='.')\n",
        "dataframe = pd.read_csv(csv_file)"
      ]
    },
    {
      "cell_type": "markdown",
      "metadata": {
        "id": "efa6910dfa5f"
      },
      "source": [
        "Inspect the dataset by checking the first five rows of the DataFrame:"
      ]
    },
    {
      "cell_type": "code",
      "execution_count": 4,
      "metadata": {
        "id": "3uiq4hoIGyXI",
        "colab": {
          "base_uri": "https://localhost:8080/",
          "height": 424
        },
        "outputId": "bb61e5b4-4972-49b3-bded-ddea447671e7"
      },
      "outputs": [
        {
          "output_type": "execute_result",
          "data": {
            "text/plain": [
              "  Type  Age                Breed1  Gender Color1    Color2 MaturitySize  \\\n",
              "0  Cat    3                 Tabby    Male  Black     White        Small   \n",
              "1  Cat    1  Domestic Medium Hair    Male  Black     Brown       Medium   \n",
              "2  Dog    1           Mixed Breed    Male  Brown     White       Medium   \n",
              "3  Dog    4           Mixed Breed  Female  Black     Brown       Medium   \n",
              "4  Dog    1           Mixed Breed    Male  Black  No Color       Medium   \n",
              "\n",
              "  FurLength Vaccinated Sterilized   Health  Fee  \\\n",
              "0     Short         No         No  Healthy  100   \n",
              "1    Medium   Not Sure   Not Sure  Healthy    0   \n",
              "2    Medium        Yes         No  Healthy    0   \n",
              "3     Short        Yes         No  Healthy  150   \n",
              "4     Short         No         No  Healthy    0   \n",
              "\n",
              "                                         Description  PhotoAmt  AdoptionSpeed  \n",
              "0  Nibble is a 3+ month old ball of cuteness. He ...         1              2  \n",
              "1  I just found it alone yesterday near my apartm...         2              0  \n",
              "2  Their pregnant mother was dumped by her irresp...         7              3  \n",
              "3  Good guard dog, very alert, active, obedience ...         8              2  \n",
              "4  This handsome yet cute boy is up for adoption....         3              2  "
            ],
            "text/html": [
              "\n",
              "  <div id=\"df-9e664039-bdd4-4796-98bc-e56f4ccc3430\">\n",
              "    <div class=\"colab-df-container\">\n",
              "      <div>\n",
              "<style scoped>\n",
              "    .dataframe tbody tr th:only-of-type {\n",
              "        vertical-align: middle;\n",
              "    }\n",
              "\n",
              "    .dataframe tbody tr th {\n",
              "        vertical-align: top;\n",
              "    }\n",
              "\n",
              "    .dataframe thead th {\n",
              "        text-align: right;\n",
              "    }\n",
              "</style>\n",
              "<table border=\"1\" class=\"dataframe\">\n",
              "  <thead>\n",
              "    <tr style=\"text-align: right;\">\n",
              "      <th></th>\n",
              "      <th>Type</th>\n",
              "      <th>Age</th>\n",
              "      <th>Breed1</th>\n",
              "      <th>Gender</th>\n",
              "      <th>Color1</th>\n",
              "      <th>Color2</th>\n",
              "      <th>MaturitySize</th>\n",
              "      <th>FurLength</th>\n",
              "      <th>Vaccinated</th>\n",
              "      <th>Sterilized</th>\n",
              "      <th>Health</th>\n",
              "      <th>Fee</th>\n",
              "      <th>Description</th>\n",
              "      <th>PhotoAmt</th>\n",
              "      <th>AdoptionSpeed</th>\n",
              "    </tr>\n",
              "  </thead>\n",
              "  <tbody>\n",
              "    <tr>\n",
              "      <th>0</th>\n",
              "      <td>Cat</td>\n",
              "      <td>3</td>\n",
              "      <td>Tabby</td>\n",
              "      <td>Male</td>\n",
              "      <td>Black</td>\n",
              "      <td>White</td>\n",
              "      <td>Small</td>\n",
              "      <td>Short</td>\n",
              "      <td>No</td>\n",
              "      <td>No</td>\n",
              "      <td>Healthy</td>\n",
              "      <td>100</td>\n",
              "      <td>Nibble is a 3+ month old ball of cuteness. He ...</td>\n",
              "      <td>1</td>\n",
              "      <td>2</td>\n",
              "    </tr>\n",
              "    <tr>\n",
              "      <th>1</th>\n",
              "      <td>Cat</td>\n",
              "      <td>1</td>\n",
              "      <td>Domestic Medium Hair</td>\n",
              "      <td>Male</td>\n",
              "      <td>Black</td>\n",
              "      <td>Brown</td>\n",
              "      <td>Medium</td>\n",
              "      <td>Medium</td>\n",
              "      <td>Not Sure</td>\n",
              "      <td>Not Sure</td>\n",
              "      <td>Healthy</td>\n",
              "      <td>0</td>\n",
              "      <td>I just found it alone yesterday near my apartm...</td>\n",
              "      <td>2</td>\n",
              "      <td>0</td>\n",
              "    </tr>\n",
              "    <tr>\n",
              "      <th>2</th>\n",
              "      <td>Dog</td>\n",
              "      <td>1</td>\n",
              "      <td>Mixed Breed</td>\n",
              "      <td>Male</td>\n",
              "      <td>Brown</td>\n",
              "      <td>White</td>\n",
              "      <td>Medium</td>\n",
              "      <td>Medium</td>\n",
              "      <td>Yes</td>\n",
              "      <td>No</td>\n",
              "      <td>Healthy</td>\n",
              "      <td>0</td>\n",
              "      <td>Their pregnant mother was dumped by her irresp...</td>\n",
              "      <td>7</td>\n",
              "      <td>3</td>\n",
              "    </tr>\n",
              "    <tr>\n",
              "      <th>3</th>\n",
              "      <td>Dog</td>\n",
              "      <td>4</td>\n",
              "      <td>Mixed Breed</td>\n",
              "      <td>Female</td>\n",
              "      <td>Black</td>\n",
              "      <td>Brown</td>\n",
              "      <td>Medium</td>\n",
              "      <td>Short</td>\n",
              "      <td>Yes</td>\n",
              "      <td>No</td>\n",
              "      <td>Healthy</td>\n",
              "      <td>150</td>\n",
              "      <td>Good guard dog, very alert, active, obedience ...</td>\n",
              "      <td>8</td>\n",
              "      <td>2</td>\n",
              "    </tr>\n",
              "    <tr>\n",
              "      <th>4</th>\n",
              "      <td>Dog</td>\n",
              "      <td>1</td>\n",
              "      <td>Mixed Breed</td>\n",
              "      <td>Male</td>\n",
              "      <td>Black</td>\n",
              "      <td>No Color</td>\n",
              "      <td>Medium</td>\n",
              "      <td>Short</td>\n",
              "      <td>No</td>\n",
              "      <td>No</td>\n",
              "      <td>Healthy</td>\n",
              "      <td>0</td>\n",
              "      <td>This handsome yet cute boy is up for adoption....</td>\n",
              "      <td>3</td>\n",
              "      <td>2</td>\n",
              "    </tr>\n",
              "  </tbody>\n",
              "</table>\n",
              "</div>\n",
              "      <button class=\"colab-df-convert\" onclick=\"convertToInteractive('df-9e664039-bdd4-4796-98bc-e56f4ccc3430')\"\n",
              "              title=\"Convert this dataframe to an interactive table.\"\n",
              "              style=\"display:none;\">\n",
              "        \n",
              "  <svg xmlns=\"http://www.w3.org/2000/svg\" height=\"24px\"viewBox=\"0 0 24 24\"\n",
              "       width=\"24px\">\n",
              "    <path d=\"M0 0h24v24H0V0z\" fill=\"none\"/>\n",
              "    <path d=\"M18.56 5.44l.94 2.06.94-2.06 2.06-.94-2.06-.94-.94-2.06-.94 2.06-2.06.94zm-11 1L8.5 8.5l.94-2.06 2.06-.94-2.06-.94L8.5 2.5l-.94 2.06-2.06.94zm10 10l.94 2.06.94-2.06 2.06-.94-2.06-.94-.94-2.06-.94 2.06-2.06.94z\"/><path d=\"M17.41 7.96l-1.37-1.37c-.4-.4-.92-.59-1.43-.59-.52 0-1.04.2-1.43.59L10.3 9.45l-7.72 7.72c-.78.78-.78 2.05 0 2.83L4 21.41c.39.39.9.59 1.41.59.51 0 1.02-.2 1.41-.59l7.78-7.78 2.81-2.81c.8-.78.8-2.07 0-2.86zM5.41 20L4 18.59l7.72-7.72 1.47 1.35L5.41 20z\"/>\n",
              "  </svg>\n",
              "      </button>\n",
              "      \n",
              "  <style>\n",
              "    .colab-df-container {\n",
              "      display:flex;\n",
              "      flex-wrap:wrap;\n",
              "      gap: 12px;\n",
              "    }\n",
              "\n",
              "    .colab-df-convert {\n",
              "      background-color: #E8F0FE;\n",
              "      border: none;\n",
              "      border-radius: 50%;\n",
              "      cursor: pointer;\n",
              "      display: none;\n",
              "      fill: #1967D2;\n",
              "      height: 32px;\n",
              "      padding: 0 0 0 0;\n",
              "      width: 32px;\n",
              "    }\n",
              "\n",
              "    .colab-df-convert:hover {\n",
              "      background-color: #E2EBFA;\n",
              "      box-shadow: 0px 1px 2px rgba(60, 64, 67, 0.3), 0px 1px 3px 1px rgba(60, 64, 67, 0.15);\n",
              "      fill: #174EA6;\n",
              "    }\n",
              "\n",
              "    [theme=dark] .colab-df-convert {\n",
              "      background-color: #3B4455;\n",
              "      fill: #D2E3FC;\n",
              "    }\n",
              "\n",
              "    [theme=dark] .colab-df-convert:hover {\n",
              "      background-color: #434B5C;\n",
              "      box-shadow: 0px 1px 3px 1px rgba(0, 0, 0, 0.15);\n",
              "      filter: drop-shadow(0px 1px 2px rgba(0, 0, 0, 0.3));\n",
              "      fill: #FFFFFF;\n",
              "    }\n",
              "  </style>\n",
              "\n",
              "      <script>\n",
              "        const buttonEl =\n",
              "          document.querySelector('#df-9e664039-bdd4-4796-98bc-e56f4ccc3430 button.colab-df-convert');\n",
              "        buttonEl.style.display =\n",
              "          google.colab.kernel.accessAllowed ? 'block' : 'none';\n",
              "\n",
              "        async function convertToInteractive(key) {\n",
              "          const element = document.querySelector('#df-9e664039-bdd4-4796-98bc-e56f4ccc3430');\n",
              "          const dataTable =\n",
              "            await google.colab.kernel.invokeFunction('convertToInteractive',\n",
              "                                                     [key], {});\n",
              "          if (!dataTable) return;\n",
              "\n",
              "          const docLinkHtml = 'Like what you see? Visit the ' +\n",
              "            '<a target=\"_blank\" href=https://colab.research.google.com/notebooks/data_table.ipynb>data table notebook</a>'\n",
              "            + ' to learn more about interactive tables.';\n",
              "          element.innerHTML = '';\n",
              "          dataTable['output_type'] = 'display_data';\n",
              "          await google.colab.output.renderOutput(dataTable, element);\n",
              "          const docLink = document.createElement('div');\n",
              "          docLink.innerHTML = docLinkHtml;\n",
              "          element.appendChild(docLink);\n",
              "        }\n",
              "      </script>\n",
              "    </div>\n",
              "  </div>\n",
              "  "
            ]
          },
          "metadata": {},
          "execution_count": 4
        }
      ],
      "source": [
        "dataframe.head()"
      ]
    },
    {
      "cell_type": "markdown",
      "metadata": {
        "id": "C3zDbrozyEqq"
      },
      "source": [
        "## Create a target variable\n",
        "\n",
        "The original task in Kaggle's <a href=\"https://www.kaggle.com/c/petfinder-adoption-prediction\" class=\"external\">PetFinder.my Adoption Prediction competition</a> was to predict the speed at which a pet will be adopted (e.g. in the first week, the first month, the first three months, and so on).\n",
        "\n",
        "In this tutorial, you will simplify the task by transforming it into a binary classification problem, where you simply have to predict whether a pet was adopted or not.\n",
        "\n",
        "After modifying the `AdoptionSpeed` column, `0` will indicate the pet was not adopted, and `1` will indicate it was."
      ]
    },
    {
      "cell_type": "code",
      "execution_count": 5,
      "metadata": {
        "id": "wmMDc46-yEqq"
      },
      "outputs": [],
      "source": [
        "# In the original dataset, `'AdoptionSpeed'` of `4` indicates\n",
        "# a pet was not adopted.\n",
        "dataframe['target'] = np.where(dataframe['AdoptionSpeed']==4, 0, 1)\n",
        "\n",
        "# Drop unused features.\n",
        "dataframe = dataframe.drop(columns=['AdoptionSpeed','Description'])"
      ]
    },
    {
      "cell_type": "code",
      "source": [
        "dataframe['Health'].value_counts()"
      ],
      "metadata": {
        "id": "qxOHtSFlqWvv",
        "outputId": "dbfc0445-e57d-4909-a13e-b5e534b78a2a",
        "colab": {
          "base_uri": "https://localhost:8080/"
        }
      },
      "execution_count": 11,
      "outputs": [
        {
          "output_type": "execute_result",
          "data": {
            "text/plain": [
              "Healthy           11098\n",
              "Minor Injury        409\n",
              "Serious Injury       30\n",
              "Name: Health, dtype: int64"
            ]
          },
          "metadata": {},
          "execution_count": 11
        }
      ]
    },
    {
      "cell_type": "code",
      "source": [
        "dataframe['target'].value_counts()/len(dataframe)"
      ],
      "metadata": {
        "id": "GP634mbOqGk_",
        "outputId": "1c644391-162f-44ce-9ddc-0eecce2d8ca6",
        "colab": {
          "base_uri": "https://localhost:8080/"
        }
      },
      "execution_count": 9,
      "outputs": [
        {
          "output_type": "execute_result",
          "data": {
            "text/plain": [
              "1    0.733033\n",
              "0    0.266967\n",
              "Name: target, dtype: float64"
            ]
          },
          "metadata": {},
          "execution_count": 9
        }
      ]
    },
    {
      "cell_type": "markdown",
      "metadata": {
        "id": "sp0NCbswyEqs"
      },
      "source": [
        "## Split the DataFrame into training, validation, and test sets\n",
        "\n",
        "The dataset is in a single pandas DataFrame. Split it into training, validation, and test sets using a, for example, 80:10:10 ratio, respectively:"
      ]
    },
    {
      "cell_type": "code",
      "execution_count": 6,
      "metadata": {
        "id": "XvSinthO8oMj"
      },
      "outputs": [],
      "source": [
        "train, val, test = np.split(dataframe.sample(frac=1), [int(0.8*len(dataframe)), int(0.9*len(dataframe))])"
      ]
    },
    {
      "cell_type": "code",
      "execution_count": 7,
      "metadata": {
        "id": "U02Q1moWoPwQ",
        "colab": {
          "base_uri": "https://localhost:8080/"
        },
        "outputId": "e442cd32-ae37-4f0a-fd3b-8da4b13abc2e"
      },
      "outputs": [
        {
          "output_type": "stream",
          "name": "stdout",
          "text": [
            "9229 training examples\n",
            "1154 validation examples\n",
            "1154 test examples\n"
          ]
        }
      ],
      "source": [
        "print(len(train), 'training examples')\n",
        "print(len(val), 'validation examples')\n",
        "print(len(test), 'test examples')"
      ]
    },
    {
      "cell_type": "markdown",
      "metadata": {
        "id": "C_7uVu-xyEqv"
      },
      "source": [
        "## Create an input pipeline using tf.data\n",
        "\n",
        "Next, create a utility function that converts each training, validation, and test set DataFrame into a `tf.data.Dataset`, then shuffles and batches the data.\n",
        "\n",
        "Note: If you were working with a very large CSV file (so large that it does not fit into memory), you would use the `tf.data` API to read it from disk directly. That is not covered in this tutorial."
      ]
    },
    {
      "cell_type": "code",
      "source": [
        "train.to_csv('/content/datasets/petfinder-mini/train.csv',index=False)\n",
        "val.to_csv('/content/datasets/petfinder-mini/val.csv',index=False)\n",
        "test.to_csv('/content/datasets/petfinder-mini/test.csv',index=False)\n",
        "TRAIN_DATA_FILE = '/content/datasets/petfinder-mini/train.csv'\n",
        "VAL_DATA_FILE = '/content/datasets/petfinder-mini/val.csv'\n",
        "TEST_DATA_FILE = '/content/datasets/petfinder-mini/test.csv'"
      ],
      "metadata": {
        "id": "K4Xvo1SSqm8_"
      },
      "execution_count": 12,
      "outputs": []
    },
    {
      "cell_type": "code",
      "source": [
        "def get_col_dtypes(df):\n",
        "  df_col_type = []\n",
        "  SELECTED_COLUMNS = df.columns.to_list()\n",
        "  for v in df[SELECTED_COLUMNS].dtypes.values:\n",
        "      if v in [\"object\"]:\n",
        "          df_col_type.append(tf.string)\n",
        "      elif v in [\"int64\"]:\n",
        "          df_col_type.append(tf.int64)\n",
        "      elif v in [\"float64\"]:\n",
        "          df_col_type.append(tf.float32)\n",
        "      else:\n",
        "          df_col_type.append(\"error\")\n",
        "  return SELECTED_COLUMNS, df_col_type"
      ],
      "metadata": {
        "id": "v-emf1wvugj7"
      },
      "execution_count": 13,
      "outputs": []
    },
    {
      "cell_type": "code",
      "source": [
        "def df_to_dataset(csv_file_path, SELECTED_COLUMNS, df_col_type, batch_size=None, training=False):\n",
        "  dataset = tf.data.experimental.make_csv_dataset(\n",
        "        csv_file_path,\n",
        "        batch_size=batch_size,\n",
        "        # column_names=CSV_HEADER,\n",
        "        # column_defaults=COLUMN_DEFAULTS,\n",
        "        label_name='target',\n",
        "        field_delim=\",\",\n",
        "        num_epochs=1,\n",
        "        header=True,\n",
        "        shuffle=training,\n",
        "        shuffle_seed=2022,\n",
        "        column_defaults=df_col_type,\n",
        "        select_columns=SELECTED_COLUMNS,\n",
        "    )\n",
        "  return dataset.prefetch(tf.data.experimental.AUTOTUNE).cache().shuffle(10000)"
      ],
      "metadata": {
        "id": "yT7sGuxsln1p"
      },
      "execution_count": 14,
      "outputs": []
    },
    {
      "cell_type": "code",
      "source": [
        "BATCH_SIZE = 5\n",
        "SELECTED_COLUMNS, df_col_type = get_col_dtypes(train)\n",
        "train_ds = df_to_dataset(TRAIN_DATA_FILE, SELECTED_COLUMNS, df_col_type, batch_size=BATCH_SIZE)"
      ],
      "metadata": {
        "id": "3Rh8HmEdnuV8"
      },
      "execution_count": null,
      "outputs": []
    },
    {
      "cell_type": "code",
      "source": [
        "iterator = train_ds.as_numpy_iterator()\n",
        "print(next(iterator))"
      ],
      "metadata": {
        "colab": {
          "base_uri": "https://localhost:8080/"
        },
        "id": "EgA3npwdwpj9",
        "outputId": "6b96705a-d61d-454e-859f-7104eb8a89d4"
      },
      "execution_count": null,
      "outputs": [
        {
          "output_type": "stream",
          "name": "stdout",
          "text": [
            "(OrderedDict([('Type', array([b'Dog', b'Dog', b'Dog', b'Dog', b'Dog'], dtype=object)), ('Age', array([1, 8, 2, 2, 3])), ('Breed1', array([b'Mixed Breed', b'Mixed Breed', b'Mixed Breed', b'Mixed Breed',\n",
            "       b'Mixed Breed'], dtype=object)), ('Gender', array([b'Female', b'Female', b'Female', b'Male', b'Female'], dtype=object)), ('Color1', array([b'Cream', b'Gray', b'Golden', b'Black', b'Brown'], dtype=object)), ('Color2', array([b'No Color', b'White', b'No Color', b'Brown', b'No Color'],\n",
            "      dtype=object)), ('MaturitySize', array([b'Medium', b'Small', b'Medium', b'Medium', b'Medium'], dtype=object)), ('FurLength', array([b'Short', b'Short', b'Medium', b'Short', b'Short'], dtype=object)), ('Vaccinated', array([b'Yes', b'Yes', b'No', b'No', b'No'], dtype=object)), ('Sterilized', array([b'No', b'Yes', b'No', b'No', b'No'], dtype=object)), ('Health', array([b'Healthy', b'Healthy', b'Healthy', b'Healthy', b'Healthy'],\n",
            "      dtype=object)), ('Fee', array([0, 0, 0, 0, 0])), ('PhotoAmt', array([1, 4, 5, 4, 5]))]), array([1, 0, 1, 1, 1]))\n"
          ]
        }
      ]
    },
    {
      "cell_type": "code",
      "execution_count": null,
      "metadata": {
        "id": "7r4j-1lRyEqw"
      },
      "outputs": [],
      "source": [
        "# def df_to_dataset(dataframe, shuffle=True, batch_size=32):\n",
        "#   df = dataframe.copy()\n",
        "#   labels = df.pop('target')\n",
        "#   #df = {key: value[:,tf.newaxis] for key, value in dataframe.items()}\n",
        "#   ds = tf.data.Dataset.from_tensor_slices((dict(df), labels))\n",
        "#   if shuffle:\n",
        "#     ds = ds.shuffle(buffer_size=len(dataframe))\n",
        "#   ds = ds.batch(batch_size)\n",
        "#   #ds = ds.prefetch(batch_size)\n",
        "#   return ds"
      ]
    },
    {
      "cell_type": "markdown",
      "metadata": {
        "id": "PYxIXH579uS9"
      },
      "source": [
        "Now, use the newly created function (`df_to_dataset`) to check the format of the data the input pipeline helper function returns by calling it on the training data, and use a small batch size to keep the output readable:"
      ]
    },
    {
      "cell_type": "code",
      "execution_count": null,
      "metadata": {
        "id": "tYiNH-QI96Jo",
        "colab": {
          "base_uri": "https://localhost:8080/"
        },
        "outputId": "0cfb2fea-f672-4e60-80d8-6b28e600d6ee"
      },
      "outputs": [
        {
          "output_type": "stream",
          "name": "stderr",
          "text": [
            "<ipython-input-52-47dd34a56d8b>:4: FutureWarning: Support for multi-dimensional indexing (e.g. `obj[:, None]`) is deprecated and will be removed in a future version.  Convert to a numpy array before indexing instead.\n",
            "  df = {key: value[:,tf.newaxis] for key, value in dataframe.items()}\n"
          ]
        }
      ],
      "source": [
        "# batch_size = 5\n",
        "# train_ds = df_to_dataset(train, batch_size=batch_size)"
      ]
    },
    {
      "cell_type": "code",
      "source": [
        "[(train_features, label_batch)] = train_ds.take(1)\n",
        "print('Every feature:', list(train_features.keys()))\n",
        "print('A batch of ages:', train_features['Age'])\n",
        "print('A batch of targets:', label_batch )"
      ],
      "metadata": {
        "id": "C7XUeIWfYFA1",
        "outputId": "f24c84f7-a3c0-47a9-9769-acbd7c084022",
        "colab": {
          "base_uri": "https://localhost:8080/"
        }
      },
      "execution_count": null,
      "outputs": [
        {
          "output_type": "stream",
          "name": "stdout",
          "text": [
            "Every feature: ['Type', 'Age', 'Breed1', 'Gender', 'Color1', 'Color2', 'MaturitySize', 'FurLength', 'Vaccinated', 'Sterilized', 'Health', 'Fee', 'PhotoAmt']\n",
            "A batch of ages: tf.Tensor([ 4  4  6  4 84], shape=(5,), dtype=int64)\n",
            "A batch of targets: tf.Tensor([1 1 0 0 1], shape=(5,), dtype=int64)\n"
          ]
        }
      ]
    },
    {
      "cell_type": "markdown",
      "metadata": {
        "id": "geqHWW54Hmte"
      },
      "source": [
        "As the output demonstrates, the training set returns a dictionary of column names (from the DataFrame) that map to column values from rows."
      ]
    },
    {
      "cell_type": "markdown",
      "metadata": {
        "id": "-v50jBIuj4gb"
      },
      "source": [
        "## Apply the Keras preprocessing layers\n",
        "\n",
        "The Keras preprocessing layers allow you to build Keras-native input processing pipelines, which can be used as independent preprocessing code in non-Keras workflows, combined directly with Keras models, and exported as part of a Keras SavedModel.\n",
        "\n",
        "In this tutorial, you will use the following four preprocessing layers to demonstrate how to perform preprocessing, structured data encoding, and feature engineering:\n",
        "\n",
        "- `tf.keras.layers.Normalization`: Performs feature-wise normalization of input features.\n",
        "- `tf.keras.layers.CategoryEncoding`: Turns integer categorical features into one-hot, multi-hot, or <a href=\"https://en.wikipedia.org/wiki/Tf%E2%80%93idf\" class=\"external\">tf-idf</a>\n",
        "dense representations.\n",
        "- `tf.keras.layers.StringLookup`: Turns string categorical values into integer indices.\n",
        "- `tf.keras.layers.IntegerLookup`: Turns integer categorical values into integer indices.\n",
        "\n",
        "You can learn more about the available layers in the [Working with preprocessing layers](https://www.tensorflow.org/guide/keras/preprocessing_layers) guide.\n",
        "\n",
        "- For _numerical features_ of the PetFinder.my mini dataset, you will use a `tf.keras.layers.Normalization` layer to standardize the distribution of the data.\n",
        "- For _categorical features_, such as pet `Type`s (`Dog` and `Cat` strings), you will transform them to multi-hot encoded tensors with `tf.keras.layers.CategoryEncoding`."
      ]
    },
    {
      "cell_type": "markdown",
      "metadata": {
        "id": "twXBSxnT66o8"
      },
      "source": [
        "### Numerical columns\n",
        "\n",
        "For each numeric feature in the PetFinder.my mini dataset, you will use a `tf.keras.layers.Normalization` layer to standardize the distribution of the data.\n",
        "\n",
        "Define a new utility function that returns a layer which applies feature-wise normalization to numerical features using that Keras preprocessing layer:"
      ]
    },
    {
      "cell_type": "code",
      "source": [
        "def calculate_num_vocab(dataset, num_cols):\n",
        "  num_vocab = {}\n",
        "  mean_num, var_num = dataset[num_cols].mean().values, dataset[num_cols].var().values\n",
        "  num_vocab['mean'] =  mean_num\n",
        "  num_vocab['var'] =  var_num\n",
        "  return num_vocab\n",
        "\n",
        "def get_normalization_layer1(num_cols, num_vocab, dataset):\n",
        "  inputs = []\n",
        "  for col in num_cols:\n",
        "    inputs.append(tf.keras.Input(shape=(1,), name=col, dtype=tf.float32))\n",
        "\n",
        "  normalizer = tf.keras.layers.Normalization(axis=-1, mean=num_vocab['mean'], variance=num_vocab['var'])\n",
        "\n",
        "  return tf.concat(inputs, axis=-1), normalizer\n",
        "\n",
        "def get_normalization_layer2(num_vocab):\n",
        "  normalizer = tf.keras.layers.Normalization(axis=-1, mean=num_vocab['mean'], variance=num_vocab['var'])\n",
        "\n",
        "  return normalizer"
      ],
      "metadata": {
        "id": "CjrqC4FKPs7d"
      },
      "execution_count": 15,
      "outputs": []
    },
    {
      "cell_type": "code",
      "execution_count": 16,
      "metadata": {
        "id": "D6OuEKMMyEq1"
      },
      "outputs": [],
      "source": [
        "def get_normalization_layer(name, dataset):\n",
        "\n",
        "  # Prepare a Dataset that only yields the feature.\n",
        "  feature_ds = dataset.map(lambda x, y: x[name])\n",
        "  # Create a Normalization layer for the feature.\n",
        "  normalizer = layers.Normalization(axis=None)\n",
        "  #normalizer.adapt(dict(dataset[numeric_features]))\n",
        "  # Learn the statistics of the data.\n",
        "  normalizer.adapt(feature_ds)\n",
        "\n",
        "  return normalizer"
      ]
    },
    {
      "cell_type": "code",
      "execution_count": 17,
      "metadata": {
        "id": "MpKgUDyk69bM",
        "colab": {
          "base_uri": "https://localhost:8080/"
        },
        "outputId": "3a7783ef-2f58-4f01-bac8-b8de298a01af"
      },
      "outputs": [
        {
          "output_type": "stream",
          "name": "stdout",
          "text": [
            "[]\n"
          ]
        },
        {
          "output_type": "execute_result",
          "data": {
            "text/plain": [
              "<tf.Tensor: shape=(9229, 2), dtype=float32, numpy=\n",
              "array([[-0.83088803, -0.4515712 ],\n",
              "       [ 0.43429354, -0.50400114],\n",
              "       [ 0.43429354, -0.50400114],\n",
              "       ...,\n",
              "       [-0.19829726,  5.6827307 ],\n",
              "       [-0.19829726, -0.4515712 ],\n",
              "       [ 0.11799814, -0.50400114]], dtype=float32)>"
            ]
          },
          "metadata": {},
          "execution_count": 17
        }
      ],
      "source": [
        "num_cols = ['PhotoAmt','Age']\n",
        "num_vocab = calculate_num_vocab(train, num_cols)\n",
        "photo_count_col = train[num_cols]\n",
        "layer = get_normalization_layer2(num_vocab)\n",
        "print(layer.get_weights())\n",
        "layer(photo_count_col)"
      ]
    },
    {
      "cell_type": "markdown",
      "source": [
        "## Concatenate all the numeric features before passing to the normalization layer"
      ],
      "metadata": {
        "id": "p8iUah3mOvR7"
      }
    },
    {
      "cell_type": "markdown",
      "metadata": {
        "id": "foWY00YBUx9N"
      },
      "source": [
        "Note: If you have many numeric features (hundreds, or more), it is more efficient to concatenate them first and use a single `tf.keras.layers.Normalization` layer."
      ]
    },
    {
      "cell_type": "markdown",
      "metadata": {
        "id": "yVD--2WZ7vmh"
      },
      "source": [
        "### Categorical columns\n",
        "\n",
        "Pet `Type`s in the dataset are represented as strings—`Dog`s and `Cat`s—which need to be multi-hot encoded before being fed into the model. The `Age` feature\n",
        "\n",
        "Define another new utility function that returns a layer which maps values from a vocabulary to integer indices and multi-hot encodes the features using the `tf.keras.layers.StringLookup`, `tf.keras.layers.IntegerLookup`, and `tf.keras.CategoryEncoding` preprocessing layers:"
      ]
    },
    {
      "cell_type": "code",
      "execution_count": 18,
      "metadata": {
        "id": "GmgaeRjlDoUO"
      },
      "outputs": [],
      "source": [
        "def get_category_encoding_layer(name, dataset, dtype, vocab, max_tokens=None):\n",
        "  # Create a layer that turns strings into integer indices.\n",
        "  if dtype == 'string':\n",
        "    index = layers.StringLookup(max_tokens=max_tokens, vocabulary=vocab[name])\n",
        "  # Otherwise, create a layer that turns integer values into integer indices.\n",
        "  else:\n",
        "    index = layers.IntegerLookup(max_tokens=max_tokens, vocabulary=vocab[name])\n",
        "\n",
        "  # Prepare a `tf.data.Dataset` that only yields the feature.\n",
        "  feature_ds = dataset.map(lambda x, y: x[name])\n",
        "\n",
        "  # Learn the set of possible values and assign them a fixed integer index.\n",
        "  #index.adapt(feature_ds)\n",
        "\n",
        "  # Encode the integer indices.\n",
        "  encoder = layers.CategoryEncoding(num_tokens=index.vocabulary_size())\n",
        "\n",
        "  # Apply multi-hot encoding to the indices. The lambda function captures the\n",
        "  # layer, so you can use them, or include them in the Keras Functional model later.\n",
        "  return lambda feature: encoder(index(feature))"
      ]
    },
    {
      "cell_type": "markdown",
      "metadata": {
        "id": "7b3DwtTeCPjX"
      },
      "source": [
        "Test the `get_category_encoding_layer` function by calling it on pet `'Type'` features to turn them into multi-hot encoded tensors:"
      ]
    },
    {
      "cell_type": "code",
      "execution_count": null,
      "metadata": {
        "id": "X2t2ff9K8PcT",
        "colab": {
          "base_uri": "https://localhost:8080/"
        },
        "outputId": "73fa24cd-2306-4e3e-94c1-ee6d40bcb0d3"
      },
      "outputs": [
        {
          "output_type": "stream",
          "name": "stdout",
          "text": [
            "<function get_category_encoding_layer.<locals>.<lambda> at 0x7f5f875e57e0>\n"
          ]
        },
        {
          "output_type": "execute_result",
          "data": {
            "text/plain": [
              "<tf.Tensor: shape=(3,), dtype=float32, numpy=array([0., 1., 1.], dtype=float32)>"
            ]
          },
          "metadata": {},
          "execution_count": 35
        }
      ],
      "source": [
        "test_type_col = train['Type']\n",
        "test_type_layer = get_category_encoding_layer(name='Type',\n",
        "                                              dataset=train_ds,\n",
        "                                              vocab=categ_dict,\n",
        "                                              dtype='string')\n",
        "test_type_layer(test_type_col)"
      ]
    },
    {
      "cell_type": "markdown",
      "metadata": {
        "id": "j6eDongw8knz"
      },
      "source": [
        "Repeat the process on the pet `'Age'` features:"
      ]
    },
    {
      "cell_type": "code",
      "execution_count": null,
      "metadata": {
        "id": "7FjBioQ38oNE",
        "colab": {
          "base_uri": "https://localhost:8080/"
        },
        "outputId": "e2d2415a-8c24-4822-e643-37760076d9ba"
      },
      "outputs": [
        {
          "output_type": "execute_result",
          "data": {
            "text/plain": [
              "<tf.Tensor: shape=(4,), dtype=float32, numpy=array([1., 1., 1., 1.], dtype=float32)>"
            ]
          },
          "metadata": {},
          "execution_count": 36
        }
      ],
      "source": [
        "test_age_col = train['Color1']\n",
        "test_age_layer = get_category_encoding_layer(name='Color1',\n",
        "                                             dataset=train_ds,\n",
        "                                             dtype='string',\n",
        "                                             vocab=categ_dict,\n",
        "                                             max_tokens=5)\n",
        "test_age_layer(test_age_col)"
      ]
    },
    {
      "cell_type": "markdown",
      "metadata": {
        "id": "SiE0glOPkMyh"
      },
      "source": [
        "## Preprocess selected features to train the model on\n",
        "\n",
        "You have learned how to use several types of Keras preprocessing layers. Next, you will:\n",
        "\n",
        "- Apply the preprocessing utility functions defined earlier on 13 numerical and categorical features from the PetFinder.my mini dataset.\n",
        "- Add all the feature inputs to a list.\n",
        "\n",
        "As mentioned in the beginning, to train the model, you will use the PetFinder.my mini dataset's numerical (`'PhotoAmt'`, `'Fee'`) and categorical (`'Age'`, `'Type'`, `'Color1'`, `'Color2'`, `'Gender'`, `'MaturitySize'`, `'FurLength'`, `'Vaccinated'`, `'Sterilized'`, `'Health'`, `'Breed1'`) features.\n",
        "\n",
        "Note: If your aim is to build an accurate model, try a larger dataset of your own, and think carefully about which features are the most meaningful to include, and how they should be represented."
      ]
    },
    {
      "cell_type": "markdown",
      "metadata": {
        "id": "Uj1GoHSZ9R3H"
      },
      "source": [
        "Earlier, you used a small batch size to demonstrate the input pipeline. Let's now create a new input pipeline with a larger batch size of 256:"
      ]
    },
    {
      "cell_type": "code",
      "source": [
        "BATCH_SIZE = 256\n",
        "SELECTED_COLUMNS, df_col_type = get_col_dtypes(train)\n",
        "train_ds = df_to_dataset(TRAIN_DATA_FILE, SELECTED_COLUMNS, df_col_type, batch_size=BATCH_SIZE)\n",
        "val_ds = df_to_dataset(VAL_DATA_FILE, SELECTED_COLUMNS, df_col_type, batch_size=len(val))\n",
        "test_ds = df_to_dataset(TEST_DATA_FILE, SELECTED_COLUMNS, df_col_type, batch_size=len(test))"
      ],
      "metadata": {
        "id": "eCOmlu9-3Zep"
      },
      "execution_count": 19,
      "outputs": []
    },
    {
      "cell_type": "code",
      "execution_count": null,
      "metadata": {
        "id": "Rcv2kQTTo23h"
      },
      "outputs": [],
      "source": [
        "# batch_size = 256\n",
        "# train_ds = df_to_dataset(train, batch_size=batch_size)\n",
        "# val_ds = df_to_dataset(val, shuffle=False, batch_size=batch_size)\n",
        "# test_ds = df_to_dataset(test, shuffle=False, batch_size=batch_size)"
      ]
    },
    {
      "cell_type": "markdown",
      "metadata": {
        "id": "5bIGNYN2V7iR"
      },
      "source": [
        "Normalize the numerical features (the number of pet photos and the adoption fee), and add them to one list of inputs called `encoded_features`:"
      ]
    },
    {
      "cell_type": "code",
      "execution_count": 20,
      "metadata": {
        "id": "Q3RBa51VkaAn"
      },
      "outputs": [],
      "source": [
        "class preprocessingData():\n",
        "\n",
        "  def __init__(self, num_cols, categorical_cols, num_vocab, categ_vocab):\n",
        "    self.num_cols = num_cols\n",
        "    self.categorical_cols = categorical_cols\n",
        "    self.num_vocab = num_vocab\n",
        "    self.categ_vocab = categ_vocab\n",
        "    self.all_inputs = []\n",
        "    self.encoded_features = []\n",
        "\n",
        "  def data_preprocess(self, ds):\n",
        "    # Numerical features\n",
        "\n",
        "    # for header in self.num_cols:\n",
        "    #   numeric_col = tf.keras.Input(shape=(1,), name=header)\n",
        "    #   normalization_layer = get_normalization_layer(header, ds)\n",
        "    #   encoded_numeric_col = normalization_layer(numeric_col)\n",
        "    #   self.all_inputs.append(numeric_col)\n",
        "    #   self.encoded_features.append(encoded_numeric_col)\n",
        "    numeric_inputs = []\n",
        "    for header in self.num_cols:\n",
        "      numeric_col = tf.keras.Input(shape=(1,), name=header, dtype=tf.float32)\n",
        "      numeric_inputs.append(numeric_col)\n",
        "\n",
        "    #numeric_inputs, normalization_layer = get_normalization_layer1(self.num_cols, num_vocab=self.num_vocab, dataset=ds)\n",
        "    normalization_layer = get_normalization_layer2(self.num_vocab)\n",
        "    concat_numeric_inputs = tf.keras.layers.Concatenate()(numeric_inputs)\n",
        "    encoded_numeric_col = normalization_layer(concat_numeric_inputs)\n",
        "    self.all_inputs.extend(numeric_inputs)\n",
        "    self.encoded_features.append(encoded_numeric_col)\n",
        "\n",
        "    # Categorical features\n",
        "    for header in self.categorical_cols:\n",
        "      categorical_col = tf.keras.Input(shape=(1,), name=header, dtype='string')\n",
        "      encoding_layer = get_category_encoding_layer(name=header,\n",
        "                                                  dataset=ds,\n",
        "                                                  dtype='string',\n",
        "                                                  #max_tokens=5,\n",
        "                                                  vocab=self.categ_vocab,\n",
        "                                                  )\n",
        "      encoded_categorical_col = encoding_layer(categorical_col)\n",
        "      self.all_inputs.append(categorical_col)\n",
        "      self.encoded_features.append(encoded_categorical_col)\n",
        "\n",
        "    self.concat_features = tf.keras.layers.Concatenate()(self.encoded_features)\n",
        "    return self.all_inputs, self.encoded_features, self.concat_features"
      ]
    },
    {
      "cell_type": "markdown",
      "metadata": {
        "id": "qVcUAFd6bvlT"
      },
      "source": [
        "Turn the integer categorical values from the dataset (the pet age) into integer indices, perform multi-hot encoding, and add the resulting feature inputs to `encoded_features`:"
      ]
    },
    {
      "cell_type": "markdown",
      "metadata": {
        "id": "QYzynk6wdqKe"
      },
      "source": [
        "Repeat the same step for the string categorical values:"
      ]
    },
    {
      "cell_type": "code",
      "execution_count": 21,
      "metadata": {
        "id": "K8C8xyiXm-Ie"
      },
      "outputs": [],
      "source": [
        "from collections import Counter\n",
        "\n",
        "num_cols = ['PhotoAmt','Fee','Age']\n",
        "categorical_cols = ['Type', 'Color1', 'Color2', 'Gender', 'MaturitySize',\n",
        "                    'FurLength', 'Vaccinated', 'Sterilized', 'Health', 'Breed1']\n",
        "\n",
        "categ_cols = list(set(train.columns) - set(num_cols) - set(['target']))\n",
        "categ_dict = {col: list(np.array(Counter(train[col]).most_common(3))[:,0]) for col in categ_cols}\n",
        "\n",
        "num_vocab = calculate_num_vocab(train, num_cols)\n",
        "preprocess = preprocessingData(num_cols, categorical_cols, num_vocab, categ_dict)\n",
        "all_inputs, encoded_features, concat_features = preprocess.data_preprocess(train_ds)"
      ]
    },
    {
      "cell_type": "code",
      "source": [
        "concat_features"
      ],
      "metadata": {
        "id": "VulNzzl7hUMt",
        "outputId": "84018119-0678-4341-b8df-54dcb4a97419",
        "colab": {
          "base_uri": "https://localhost:8080/"
        }
      },
      "execution_count": 22,
      "outputs": [
        {
          "output_type": "execute_result",
          "data": {
            "text/plain": [
              "<KerasTensor: shape=(None, 41) dtype=float32 (created by layer 'concatenate_1')>"
            ]
          },
          "metadata": {},
          "execution_count": 22
        }
      ]
    },
    {
      "cell_type": "code",
      "source": [
        "all_inputs"
      ],
      "metadata": {
        "colab": {
          "base_uri": "https://localhost:8080/"
        },
        "id": "WbfUPNrEvqgg",
        "outputId": "4589c2c2-297f-4da9-d6d3-db5766a9a31a"
      },
      "execution_count": 23,
      "outputs": [
        {
          "output_type": "execute_result",
          "data": {
            "text/plain": [
              "[<KerasTensor: shape=(None, 1) dtype=float32 (created by layer 'PhotoAmt')>,\n",
              " <KerasTensor: shape=(None, 1) dtype=float32 (created by layer 'Fee')>,\n",
              " <KerasTensor: shape=(None, 1) dtype=float32 (created by layer 'Age')>,\n",
              " <KerasTensor: shape=(None, 1) dtype=string (created by layer 'Type')>,\n",
              " <KerasTensor: shape=(None, 1) dtype=string (created by layer 'Color1')>,\n",
              " <KerasTensor: shape=(None, 1) dtype=string (created by layer 'Color2')>,\n",
              " <KerasTensor: shape=(None, 1) dtype=string (created by layer 'Gender')>,\n",
              " <KerasTensor: shape=(None, 1) dtype=string (created by layer 'MaturitySize')>,\n",
              " <KerasTensor: shape=(None, 1) dtype=string (created by layer 'FurLength')>,\n",
              " <KerasTensor: shape=(None, 1) dtype=string (created by layer 'Vaccinated')>,\n",
              " <KerasTensor: shape=(None, 1) dtype=string (created by layer 'Sterilized')>,\n",
              " <KerasTensor: shape=(None, 1) dtype=string (created by layer 'Health')>,\n",
              " <KerasTensor: shape=(None, 1) dtype=string (created by layer 'Breed1')>]"
            ]
          },
          "metadata": {},
          "execution_count": 23
        }
      ]
    },
    {
      "cell_type": "code",
      "source": [
        "encoded_features"
      ],
      "metadata": {
        "colab": {
          "base_uri": "https://localhost:8080/"
        },
        "id": "AO8Z8aGfv2ju",
        "outputId": "6c1e7417-400d-40e7-87d0-8869bb7a952d"
      },
      "execution_count": null,
      "outputs": [
        {
          "output_type": "execute_result",
          "data": {
            "text/plain": [
              "[<KerasTensor: shape=(None, 3) dtype=float32 (created by layer 'normalization_4')>,\n",
              " <KerasTensor: shape=(None, 3) dtype=float32 (created by layer 'category_encoding_30')>,\n",
              " <KerasTensor: shape=(None, 4) dtype=float32 (created by layer 'category_encoding_31')>,\n",
              " <KerasTensor: shape=(None, 4) dtype=float32 (created by layer 'category_encoding_32')>,\n",
              " <KerasTensor: shape=(None, 3) dtype=float32 (created by layer 'category_encoding_33')>,\n",
              " <KerasTensor: shape=(None, 4) dtype=float32 (created by layer 'category_encoding_34')>,\n",
              " <KerasTensor: shape=(None, 4) dtype=float32 (created by layer 'category_encoding_35')>,\n",
              " <KerasTensor: shape=(None, 4) dtype=float32 (created by layer 'category_encoding_36')>,\n",
              " <KerasTensor: shape=(None, 4) dtype=float32 (created by layer 'category_encoding_37')>,\n",
              " <KerasTensor: shape=(None, 4) dtype=float32 (created by layer 'category_encoding_38')>,\n",
              " <KerasTensor: shape=(None, 4) dtype=float32 (created by layer 'category_encoding_39')>]"
            ]
          },
          "metadata": {},
          "execution_count": 90
        }
      ]
    },
    {
      "cell_type": "markdown",
      "metadata": {
        "id": "YHSnhz2fyEq3"
      },
      "source": [
        "## Create, compile, and train the model\n"
      ]
    },
    {
      "cell_type": "markdown",
      "metadata": {
        "id": "IDGyN_wpo0XS"
      },
      "source": [
        "The next step is to create a model using the [Keras Functional API](https://www.tensorflow.org/guide/keras/functional). For the first layer in your model, merge the list of feature inputs—`encoded_features`—into one vector via concatenation with `tf.keras.layers.concatenate`."
      ]
    },
    {
      "cell_type": "code",
      "source": [
        "concat_features"
      ],
      "metadata": {
        "id": "zyi320RPg2UD",
        "outputId": "404ab0ab-5aec-49f8-b933-5530f0a3172d",
        "colab": {
          "base_uri": "https://localhost:8080/"
        }
      },
      "execution_count": null,
      "outputs": [
        {
          "output_type": "execute_result",
          "data": {
            "text/plain": [
              "[<KerasTensor: shape=(None, 41) dtype=float32 (created by layer 'concatenate_17')>]"
            ]
          },
          "metadata": {},
          "execution_count": 138
        }
      ]
    },
    {
      "cell_type": "code",
      "source": [
        "[layer for layer in encoded_features if layer.name.startswith('normalization')][0]"
      ],
      "metadata": {
        "id": "j-WloY4nRdZY",
        "outputId": "1357bbcb-754d-4c73-e10e-8408fb70d30c",
        "colab": {
          "base_uri": "https://localhost:8080/"
        }
      },
      "execution_count": null,
      "outputs": [
        {
          "output_type": "execute_result",
          "data": {
            "text/plain": [
              "<KerasTensor: shape=(None, 3) dtype=float32 (created by layer 'normalization_3')>"
            ]
          },
          "metadata": {},
          "execution_count": 72
        }
      ]
    },
    {
      "cell_type": "code",
      "source": [
        "[layer for layer in encoded_features if layer.name.startswith('category_encoding')]"
      ],
      "metadata": {
        "id": "I29Jz0QAJk6I",
        "outputId": "f803af1b-d7de-4b04-81af-24d167b2d54e",
        "colab": {
          "base_uri": "https://localhost:8080/"
        }
      },
      "execution_count": null,
      "outputs": [
        {
          "output_type": "execute_result",
          "data": {
            "text/plain": [
              "[<KerasTensor: shape=(None, 3) dtype=float32 (created by layer 'category_encoding_20')>,\n",
              " <KerasTensor: shape=(None, 4) dtype=float32 (created by layer 'category_encoding_21')>,\n",
              " <KerasTensor: shape=(None, 4) dtype=float32 (created by layer 'category_encoding_22')>,\n",
              " <KerasTensor: shape=(None, 3) dtype=float32 (created by layer 'category_encoding_23')>,\n",
              " <KerasTensor: shape=(None, 4) dtype=float32 (created by layer 'category_encoding_24')>,\n",
              " <KerasTensor: shape=(None, 4) dtype=float32 (created by layer 'category_encoding_25')>,\n",
              " <KerasTensor: shape=(None, 4) dtype=float32 (created by layer 'category_encoding_26')>,\n",
              " <KerasTensor: shape=(None, 4) dtype=float32 (created by layer 'category_encoding_27')>,\n",
              " <KerasTensor: shape=(None, 4) dtype=float32 (created by layer 'category_encoding_28')>,\n",
              " <KerasTensor: shape=(None, 4) dtype=float32 (created by layer 'category_encoding_29')>]"
            ]
          },
          "metadata": {},
          "execution_count": 57
        }
      ]
    },
    {
      "cell_type": "code",
      "source": [
        "t = tf.keras.layers.Concatenate()([layer for layer in encoded_features if layer.name.startswith('category_encoding')])\n",
        "t"
      ],
      "metadata": {
        "id": "s3V_sGf9IgJ9",
        "outputId": "49b78625-e37a-4adb-be67-9a0f89137ae8",
        "colab": {
          "base_uri": "https://localhost:8080/"
        }
      },
      "execution_count": null,
      "outputs": [
        {
          "output_type": "execute_result",
          "data": {
            "text/plain": [
              "<KerasTensor: shape=(None, 38) dtype=float32 (created by layer 'concatenate_13')>"
            ]
          },
          "metadata": {},
          "execution_count": 84
        }
      ]
    },
    {
      "cell_type": "code",
      "execution_count": 24,
      "metadata": {
        "id": "6Yrj-_pr6jyL"
      },
      "outputs": [],
      "source": [
        "class tfModel():\n",
        "\n",
        "  def __init__(self):\n",
        "    self.dense_layer1 = tf.keras.layers.Dense(32, activation=\"relu\")\n",
        "    self.dense_layer2 = tf.keras.layers.Dense(1, activation=tf.nn.sigmoid)\n",
        "    self.dropout_layer = tf.keras.layers.Dropout(0.5)\n",
        "\n",
        "  def model(self, all_features):\n",
        "    self.all_features = all_features\n",
        "    x1 = tf.keras.layers.Dense(32, activation=\"relu\")(self.all_features)\n",
        "    x1 = tf.keras.layers.Dropout(0.5)(x1)\n",
        "    output1 = tf.keras.layers.Dense(1, activation=tf.nn.sigmoid)(x1)\n",
        "\n",
        "    # self.numeric_layers = [layer for layer in self.all_features if layer.name.startswith('normalization')][0]\n",
        "    # self.categ_layers = [layer for layer in self.all_features if layer.name.startswith('category_encoding')]\n",
        "\n",
        "    # self.concat_categ_layers = tf.keras.layers.Concatenate()(self.categ_layers)\n",
        "\n",
        "    # x1 = tf.keras.layers.Dense(32, activation=\"relu\")(self.concat_categ_layers)\n",
        "    # x1 = tf.keras.layers.Dropout(0.5)(x1)\n",
        "    # output1 = tf.keras.layers.Dense(1, activation=tf.nn.sigmoid)(x1)\n",
        "\n",
        "    # x2 = tf.keras.layers.Dense(32, activation=\"relu\")(self.numeric_layers)\n",
        "    # x2 = tf.keras.layers.Dropout(0.5)(x2)\n",
        "    # output2 = tf.keras.layers.Dense(1, activation=tf.nn.sigmoid)(x2)\n",
        "\n",
        "    # mean_nn_only = tf.reduce_mean(tf.stack([output1, output2], axis=0), axis=0)\n",
        "\n",
        "    self.nn_only_model = tf.keras.models.Model(self.all_features, output1)\n",
        "    return self.nn_only_model"
      ]
    },
    {
      "cell_type": "markdown",
      "metadata": {
        "id": "NRLDRcYAefTA"
      },
      "source": [
        "Configure the model with Keras `Model.compile`:"
      ]
    },
    {
      "cell_type": "code",
      "execution_count": 27,
      "metadata": {
        "id": "GZDb_lJdelSg"
      },
      "outputs": [],
      "source": [
        "preprocessing_model = tf.keras.Model(all_inputs, concat_features)\n",
        "tf_model = tfModel()\n",
        "training_model = tf_model.model(preprocessing_model.output)"
      ]
    },
    {
      "cell_type": "markdown",
      "metadata": {
        "id": "f6mNMfG6yEq5"
      },
      "source": [
        "Let's visualize the connectivity graph:\n"
      ]
    },
    {
      "cell_type": "code",
      "source": [
        "# Use `rankdir='LR'` to make the graph horizontal.\n",
        "tf.keras.utils.plot_model(preprocessing_model, show_shapes=True, rankdir=\"LR\")"
      ],
      "metadata": {
        "colab": {
          "base_uri": "https://localhost:8080/",
          "height": 1000
        },
        "id": "LniFeHU4ykpt",
        "outputId": "e4422684-79f9-4307-fc21-862a3c4ad52b"
      },
      "execution_count": null,
      "outputs": [
        {
          "output_type": "execute_result",
          "data": {
            "image/png": "[encoded data removed]",
            "text/plain": [
              "<IPython.core.display.Image object>"
            ]
          },
          "metadata": {},
          "execution_count": 158
        }
      ]
    },
    {
      "cell_type": "code",
      "source": [
        "# Use `rankdir='LR'` to make the graph horizontal.\n",
        "tf.keras.utils.plot_model(training_model, show_shapes=True, rankdir=\"LR\")"
      ],
      "metadata": {
        "colab": {
          "base_uri": "https://localhost:8080/",
          "height": 121
        },
        "id": "fm2XbvHLyceG",
        "outputId": "136b79cb-66dc-4798-9c0b-9790547d9529"
      },
      "execution_count": null,
      "outputs": [
        {
          "output_type": "execute_result",
          "data": {
            "image/png": "[encoded data removed]",
            "text/plain": [
              "<IPython.core.display.Image object>"
            ]
          },
          "metadata": {},
          "execution_count": 159
        }
      ]
    },
    {
      "cell_type": "markdown",
      "metadata": {
        "id": "CED6OStLyEq7"
      },
      "source": [
        "Next, train and test the model:"
      ]
    },
    {
      "cell_type": "code",
      "source": [
        "# Apply preprocessing asynchonously with tf.data.\n",
        "preprocessed_train_ds = train_ds.map(\n",
        "    lambda x, y: (preprocessing_model(x), y),\n",
        "    num_parallel_calls=tf.data.AUTOTUNE).cache().prefetch(tf.data.AUTOTUNE)\n",
        "preprocessed_val_ds = val_ds.map(\n",
        "    lambda x, y: (preprocessing_model(x), y),\n",
        "    num_parallel_calls=tf.data.AUTOTUNE).cache().prefetch(tf.data.AUTOTUNE)\n",
        "preprocessed_test_ds = test_ds.map(\n",
        "    lambda x, y: (preprocessing_model(x), y),\n",
        "    num_parallel_calls=tf.data.AUTOTUNE).cache().prefetch(tf.data.AUTOTUNE)"
      ],
      "metadata": {
        "id": "YVl-tIFxy3jV"
      },
      "execution_count": 28,
      "outputs": []
    },
    {
      "cell_type": "code",
      "source": [
        "# Now the GPU can focus on the training part of the model!\n",
        "training_model.compile(optimizer='adam',\n",
        "    loss=tf.keras.losses.BinaryCrossentropy(from_logits=False),\n",
        "    metrics=[\"accuracy\"])\n",
        "training_model.fit(\n",
        "    preprocessed_train_ds, validation_data=preprocessed_val_ds, epochs=10)"
      ],
      "metadata": {
        "id": "CndjuP6EgKoN",
        "outputId": "30766b0c-38bd-42fd-e90e-77a95d3e2c6c",
        "colab": {
          "base_uri": "https://localhost:8080/"
        }
      },
      "execution_count": 29,
      "outputs": [
        {
          "output_type": "stream",
          "name": "stdout",
          "text": [
            "Epoch 1/10\n",
            "37/37 [==============================] - 1s 13ms/step - loss: 0.6179 - accuracy: 0.6974 - val_loss: 0.5635 - val_accuracy: 0.7279\n",
            "Epoch 2/10\n",
            "37/37 [==============================] - 0s 1ms/step - loss: 0.5876 - accuracy: 0.7190 - val_loss: 0.5563 - val_accuracy: 0.7314\n",
            "Epoch 3/10\n",
            "37/37 [==============================] - 0s 1ms/step - loss: 0.5663 - accuracy: 0.7312 - val_loss: 0.5522 - val_accuracy: 0.7314\n",
            "Epoch 4/10\n",
            "37/37 [==============================] - 0s 1ms/step - loss: 0.5618 - accuracy: 0.7332 - val_loss: 0.5495 - val_accuracy: 0.7374\n",
            "Epoch 5/10\n",
            "37/37 [==============================] - 0s 1ms/step - loss: 0.5497 - accuracy: 0.7372 - val_loss: 0.5472 - val_accuracy: 0.7409\n",
            "Epoch 6/10\n",
            "37/37 [==============================] - 0s 1ms/step - loss: 0.5553 - accuracy: 0.7325 - val_loss: 0.5457 - val_accuracy: 0.7452\n",
            "Epoch 7/10\n",
            "37/37 [==============================] - 0s 1ms/step - loss: 0.5470 - accuracy: 0.7390 - val_loss: 0.5443 - val_accuracy: 0.7461\n",
            "Epoch 8/10\n",
            "37/37 [==============================] - 0s 1ms/step - loss: 0.5439 - accuracy: 0.7416 - val_loss: 0.5428 - val_accuracy: 0.7452\n",
            "Epoch 9/10\n",
            "37/37 [==============================] - 0s 2ms/step - loss: 0.5411 - accuracy: 0.7403 - val_loss: 0.5409 - val_accuracy: 0.7470\n",
            "Epoch 10/10\n",
            "37/37 [==============================] - 0s 2ms/step - loss: 0.5409 - accuracy: 0.7419 - val_loss: 0.5400 - val_accuracy: 0.7470\n"
          ]
        },
        {
          "output_type": "execute_result",
          "data": {
            "text/plain": [
              "<keras.callbacks.History at 0x7f9021f902e0>"
            ]
          },
          "metadata": {},
          "execution_count": 29
        }
      ]
    },
    {
      "cell_type": "code",
      "execution_count": 30,
      "metadata": {
        "id": "T8N2uAdU2Cni",
        "colab": {
          "base_uri": "https://localhost:8080/"
        },
        "outputId": "c09ced8e-14b7-4be8-adfd-7043c4d14b59"
      },
      "outputs": [
        {
          "output_type": "stream",
          "name": "stdout",
          "text": [
            "1/1 [==============================] - 0s 241ms/step - loss: 0.5142 - accuracy: 0.7565\n",
            "Accuracy 0.7564991116523743\n"
          ]
        }
      ],
      "source": [
        "loss, accuracy = training_model.evaluate(preprocessed_test_ds)\n",
        "print(\"Accuracy\", accuracy)"
      ]
    },
    {
      "cell_type": "markdown",
      "metadata": {
        "id": "LmZMnTKaCZda"
      },
      "source": [
        "## Perform inference\n",
        "\n",
        "The model you have developed can now classify a row from a CSV file directly after you've included the preprocessing layers inside the model itself.\n",
        "\n",
        "You can now [save and reload the Keras model](../keras/save_and_load.ipynb) with `Model.save` and `Model.load_model` before performing inference on new data:"
      ]
    },
    {
      "cell_type": "code",
      "source": [
        "inputs = preprocessing_model.input\n",
        "outputs = training_model(preprocessing_model(inputs))\n",
        "inference_model = tf.keras.Model(inputs, outputs)"
      ],
      "metadata": {
        "id": "NG-7gSqy2_lJ"
      },
      "execution_count": 34,
      "outputs": []
    },
    {
      "cell_type": "code",
      "execution_count": 35,
      "metadata": {
        "id": "QH9Zy1sBvwOH",
        "colab": {
          "base_uri": "https://localhost:8080/"
        },
        "outputId": "3be28e78-c4e2-4f82-f128-beddb52c4cf7"
      },
      "outputs": [
        {
          "output_type": "stream",
          "name": "stderr",
          "text": [
            "WARNING:tensorflow:Compiled the loaded model, but the compiled metrics have yet to be built. `model.compile_metrics` will be empty until you train or evaluate the model.\n",
            "WARNING:absl:Function `_wrapped_model` contains input name(s) PhotoAmt, Fee, Age, Type, Color1, Color2, Gender, MaturitySize, FurLength, Vaccinated, Sterilized, Health, Breed1 with unsupported characters which will be renamed to photoamt, fee, age, type, color1, color2, gender, maturitysize, furlength, vaccinated, sterilized, health, breed1 in the SavedModel.\n",
            "WARNING:absl:Found untraced functions such as _update_step_xla while saving (showing 1 of 1). These functions will not be directly callable after loading.\n",
            "WARNING:tensorflow:No training configuration found in save file, so the model was *not* compiled. Compile it manually.\n"
          ]
        }
      ],
      "source": [
        "inference_model.save('my_pet_classifier')\n",
        "reloaded_model = tf.keras.models.load_model('my_pet_classifier')"
      ]
    },
    {
      "cell_type": "code",
      "source": [
        "[(x,y)] = test_ds.take(1)\n",
        "actual_test_labels = y.numpy()"
      ],
      "metadata": {
        "id": "1QqYVyZKuxay"
      },
      "execution_count": 44,
      "outputs": []
    },
    {
      "cell_type": "code",
      "source": [
        "thres = 0.5\n",
        "test_pred_probs = inference_model.predict(test_ds)\n",
        "test_pred_labels = (test_pred_probs>thres)*1.0\n",
        "print(classification_report(actual_test_labels, test_pred_labels))\n",
        "print(confusion_matrix(actual_test_labels, test_pred_labels)/len(actual_test_labels))"
      ],
      "metadata": {
        "id": "IaxEDOhKu1uS",
        "outputId": "5ad524d8-6631-4f1c-8f15-fd247619c55b",
        "colab": {
          "base_uri": "https://localhost:8080/"
        }
      },
      "execution_count": 46,
      "outputs": [
        {
          "output_type": "stream",
          "name": "stdout",
          "text": [
            "1/1 [==============================] - 0s 22ms/step\n",
            "              precision    recall  f1-score   support\n",
            "\n",
            "           0       0.61      0.15      0.24       297\n",
            "           1       0.77      0.97      0.86       857\n",
            "\n",
            "    accuracy                           0.76      1154\n",
            "   macro avg       0.69      0.56      0.55      1154\n",
            "weighted avg       0.73      0.76      0.70      1154\n",
            "\n",
            "[[0.03812825 0.21923744]\n",
            " [0.02426343 0.71837088]]\n"
          ]
        }
      ]
    },
    {
      "cell_type": "code",
      "source": [
        "test = pd.read_csv(TEST_DATA_FILE, header=0)\n",
        "test['test_pred_probs'] = test_pred_probs\n",
        "test.head()"
      ],
      "metadata": {
        "id": "viC03lDwvCfa",
        "outputId": "47335471-b74c-46e2-b34a-ccfc6016bfc4",
        "colab": {
          "base_uri": "https://localhost:8080/",
          "height": 319
        }
      },
      "execution_count": 47,
      "outputs": [
        {
          "output_type": "execute_result",
          "data": {
            "text/plain": [
              "  Type  Age                Breed1  Gender  Color1    Color2 MaturitySize  \\\n",
              "0  Cat    2  Domestic Medium Hair  Female    Gray  No Color        Small   \n",
              "1  Cat    5   Domestic Short Hair    Male  Yellow  No Color       Medium   \n",
              "2  Dog   36            Rottweiler    Male   Black     Cream        Large   \n",
              "3  Cat   12   Domestic Short Hair  Female   Black     White       Medium   \n",
              "4  Dog   60                Beagle    Male   Black     Brown       Medium   \n",
              "\n",
              "  FurLength Vaccinated Sterilized        Health  Fee  PhotoAmt  target  \\\n",
              "0    Medium         No         No       Healthy    0         1       1   \n",
              "1     Short        Yes        Yes       Healthy  100        30       1   \n",
              "2     Short        Yes        Yes       Healthy    0         4       1   \n",
              "3     Short        Yes        Yes       Healthy    0         2       0   \n",
              "4    Medium         No         No  Minor Injury    0         5       1   \n",
              "\n",
              "   test_pred_probs  \n",
              "0         0.763150  \n",
              "1         0.913932  \n",
              "2         0.700239  \n",
              "3         0.510498  \n",
              "4         0.784358  "
            ],
            "text/html": [
              "\n",
              "  <div id=\"df-2461834b-46b4-437b-8c40-88ff924130ae\">\n",
              "    <div class=\"colab-df-container\">\n",
              "      <div>\n",
              "<style scoped>\n",
              "    .dataframe tbody tr th:only-of-type {\n",
              "        vertical-align: middle;\n",
              "    }\n",
              "\n",
              "    .dataframe tbody tr th {\n",
              "        vertical-align: top;\n",
              "    }\n",
              "\n",
              "    .dataframe thead th {\n",
              "        text-align: right;\n",
              "    }\n",
              "</style>\n",
              "<table border=\"1\" class=\"dataframe\">\n",
              "  <thead>\n",
              "    <tr style=\"text-align: right;\">\n",
              "      <th></th>\n",
              "      <th>Type</th>\n",
              "      <th>Age</th>\n",
              "      <th>Breed1</th>\n",
              "      <th>Gender</th>\n",
              "      <th>Color1</th>\n",
              "      <th>Color2</th>\n",
              "      <th>MaturitySize</th>\n",
              "      <th>FurLength</th>\n",
              "      <th>Vaccinated</th>\n",
              "      <th>Sterilized</th>\n",
              "      <th>Health</th>\n",
              "      <th>Fee</th>\n",
              "      <th>PhotoAmt</th>\n",
              "      <th>target</th>\n",
              "      <th>test_pred_probs</th>\n",
              "    </tr>\n",
              "  </thead>\n",
              "  <tbody>\n",
              "    <tr>\n",
              "      <th>0</th>\n",
              "      <td>Cat</td>\n",
              "      <td>2</td>\n",
              "      <td>Domestic Medium Hair</td>\n",
              "      <td>Female</td>\n",
              "      <td>Gray</td>\n",
              "      <td>No Color</td>\n",
              "      <td>Small</td>\n",
              "      <td>Medium</td>\n",
              "      <td>No</td>\n",
              "      <td>No</td>\n",
              "      <td>Healthy</td>\n",
              "      <td>0</td>\n",
              "      <td>1</td>\n",
              "      <td>1</td>\n",
              "      <td>0.763150</td>\n",
              "    </tr>\n",
              "    <tr>\n",
              "      <th>1</th>\n",
              "      <td>Cat</td>\n",
              "      <td>5</td>\n",
              "      <td>Domestic Short Hair</td>\n",
              "      <td>Male</td>\n",
              "      <td>Yellow</td>\n",
              "      <td>No Color</td>\n",
              "      <td>Medium</td>\n",
              "      <td>Short</td>\n",
              "      <td>Yes</td>\n",
              "      <td>Yes</td>\n",
              "      <td>Healthy</td>\n",
              "      <td>100</td>\n",
              "      <td>30</td>\n",
              "      <td>1</td>\n",
              "      <td>0.913932</td>\n",
              "    </tr>\n",
              "    <tr>\n",
              "      <th>2</th>\n",
              "      <td>Dog</td>\n",
              "      <td>36</td>\n",
              "      <td>Rottweiler</td>\n",
              "      <td>Male</td>\n",
              "      <td>Black</td>\n",
              "      <td>Cream</td>\n",
              "      <td>Large</td>\n",
              "      <td>Short</td>\n",
              "      <td>Yes</td>\n",
              "      <td>Yes</td>\n",
              "      <td>Healthy</td>\n",
              "      <td>0</td>\n",
              "      <td>4</td>\n",
              "      <td>1</td>\n",
              "      <td>0.700239</td>\n",
              "    </tr>\n",
              "    <tr>\n",
              "      <th>3</th>\n",
              "      <td>Cat</td>\n",
              "      <td>12</td>\n",
              "      <td>Domestic Short Hair</td>\n",
              "      <td>Female</td>\n",
              "      <td>Black</td>\n",
              "      <td>White</td>\n",
              "      <td>Medium</td>\n",
              "      <td>Short</td>\n",
              "      <td>Yes</td>\n",
              "      <td>Yes</td>\n",
              "      <td>Healthy</td>\n",
              "      <td>0</td>\n",
              "      <td>2</td>\n",
              "      <td>0</td>\n",
              "      <td>0.510498</td>\n",
              "    </tr>\n",
              "    <tr>\n",
              "      <th>4</th>\n",
              "      <td>Dog</td>\n",
              "      <td>60</td>\n",
              "      <td>Beagle</td>\n",
              "      <td>Male</td>\n",
              "      <td>Black</td>\n",
              "      <td>Brown</td>\n",
              "      <td>Medium</td>\n",
              "      <td>Medium</td>\n",
              "      <td>No</td>\n",
              "      <td>No</td>\n",
              "      <td>Minor Injury</td>\n",
              "      <td>0</td>\n",
              "      <td>5</td>\n",
              "      <td>1</td>\n",
              "      <td>0.784358</td>\n",
              "    </tr>\n",
              "  </tbody>\n",
              "</table>\n",
              "</div>\n",
              "      <button class=\"colab-df-convert\" onclick=\"convertToInteractive('df-2461834b-46b4-437b-8c40-88ff924130ae')\"\n",
              "              title=\"Convert this dataframe to an interactive table.\"\n",
              "              style=\"display:none;\">\n",
              "        \n",
              "  <svg xmlns=\"http://www.w3.org/2000/svg\" height=\"24px\"viewBox=\"0 0 24 24\"\n",
              "       width=\"24px\">\n",
              "    <path d=\"M0 0h24v24H0V0z\" fill=\"none\"/>\n",
              "    <path d=\"M18.56 5.44l.94 2.06.94-2.06 2.06-.94-2.06-.94-.94-2.06-.94 2.06-2.06.94zm-11 1L8.5 8.5l.94-2.06 2.06-.94-2.06-.94L8.5 2.5l-.94 2.06-2.06.94zm10 10l.94 2.06.94-2.06 2.06-.94-2.06-.94-.94-2.06-.94 2.06-2.06.94z\"/><path d=\"M17.41 7.96l-1.37-1.37c-.4-.4-.92-.59-1.43-.59-.52 0-1.04.2-1.43.59L10.3 9.45l-7.72 7.72c-.78.78-.78 2.05 0 2.83L4 21.41c.39.39.9.59 1.41.59.51 0 1.02-.2 1.41-.59l7.78-7.78 2.81-2.81c.8-.78.8-2.07 0-2.86zM5.41 20L4 18.59l7.72-7.72 1.47 1.35L5.41 20z\"/>\n",
              "  </svg>\n",
              "      </button>\n",
              "      \n",
              "  <style>\n",
              "    .colab-df-container {\n",
              "      display:flex;\n",
              "      flex-wrap:wrap;\n",
              "      gap: 12px;\n",
              "    }\n",
              "\n",
              "    .colab-df-convert {\n",
              "      background-color: #E8F0FE;\n",
              "      border: none;\n",
              "      border-radius: 50%;\n",
              "      cursor: pointer;\n",
              "      display: none;\n",
              "      fill: #1967D2;\n",
              "      height: 32px;\n",
              "      padding: 0 0 0 0;\n",
              "      width: 32px;\n",
              "    }\n",
              "\n",
              "    .colab-df-convert:hover {\n",
              "      background-color: #E2EBFA;\n",
              "      box-shadow: 0px 1px 2px rgba(60, 64, 67, 0.3), 0px 1px 3px 1px rgba(60, 64, 67, 0.15);\n",
              "      fill: #174EA6;\n",
              "    }\n",
              "\n",
              "    [theme=dark] .colab-df-convert {\n",
              "      background-color: #3B4455;\n",
              "      fill: #D2E3FC;\n",
              "    }\n",
              "\n",
              "    [theme=dark] .colab-df-convert:hover {\n",
              "      background-color: #434B5C;\n",
              "      box-shadow: 0px 1px 3px 1px rgba(0, 0, 0, 0.15);\n",
              "      filter: drop-shadow(0px 1px 2px rgba(0, 0, 0, 0.3));\n",
              "      fill: #FFFFFF;\n",
              "    }\n",
              "  </style>\n",
              "\n",
              "      <script>\n",
              "        const buttonEl =\n",
              "          document.querySelector('#df-2461834b-46b4-437b-8c40-88ff924130ae button.colab-df-convert');\n",
              "        buttonEl.style.display =\n",
              "          google.colab.kernel.accessAllowed ? 'block' : 'none';\n",
              "\n",
              "        async function convertToInteractive(key) {\n",
              "          const element = document.querySelector('#df-2461834b-46b4-437b-8c40-88ff924130ae');\n",
              "          const dataTable =\n",
              "            await google.colab.kernel.invokeFunction('convertToInteractive',\n",
              "                                                     [key], {});\n",
              "          if (!dataTable) return;\n",
              "\n",
              "          const docLinkHtml = 'Like what you see? Visit the ' +\n",
              "            '<a target=\"_blank\" href=https://colab.research.google.com/notebooks/data_table.ipynb>data table notebook</a>'\n",
              "            + ' to learn more about interactive tables.';\n",
              "          element.innerHTML = '';\n",
              "          dataTable['output_type'] = 'display_data';\n",
              "          await google.colab.output.renderOutput(dataTable, element);\n",
              "          const docLink = document.createElement('div');\n",
              "          docLink.innerHTML = docLinkHtml;\n",
              "          element.appendChild(docLink);\n",
              "        }\n",
              "      </script>\n",
              "    </div>\n",
              "  </div>\n",
              "  "
            ]
          },
          "metadata": {},
          "execution_count": 47
        }
      ]
    },
    {
      "cell_type": "markdown",
      "source": [
        "## Calculating eval metrics for a subset of data"
      ],
      "metadata": {
        "id": "07uCtCRVwDkQ"
      }
    },
    {
      "cell_type": "code",
      "source": [
        "thres = 0.5\n",
        "sample_test_data = test.loc[test['Health'] == 'Minor Injury']\n",
        "sample_actual_test_labels = sample_test_data.target\n",
        "sample_test_pred_probs = sample_test_data.test_pred_probs\n",
        "sample_test_pred_labels = (sample_test_pred_probs>thres)*1.0\n",
        "print(classification_report(sample_actual_test_labels, sample_test_pred_labels))\n",
        "print(confusion_matrix(sample_actual_test_labels, sample_test_pred_labels)/len(sample_actual_test_labels))"
      ],
      "metadata": {
        "id": "AV1J6XNXwDKm",
        "outputId": "b3f0d550-19a9-4a8f-c27a-ea9affbccf46",
        "colab": {
          "base_uri": "https://localhost:8080/"
        }
      },
      "execution_count": 49,
      "outputs": [
        {
          "output_type": "stream",
          "name": "stdout",
          "text": [
            "              precision    recall  f1-score   support\n",
            "\n",
            "           0       0.00      0.00      0.00        11\n",
            "           1       0.65      1.00      0.78        20\n",
            "\n",
            "    accuracy                           0.65        31\n",
            "   macro avg       0.32      0.50      0.39        31\n",
            "weighted avg       0.42      0.65      0.51        31\n",
            "\n",
            "[[0.         0.35483871]\n",
            " [0.         0.64516129]]\n"
          ]
        },
        {
          "output_type": "stream",
          "name": "stderr",
          "text": [
            "/usr/local/lib/python3.10/dist-packages/sklearn/metrics/_classification.py:1344: UndefinedMetricWarning: Precision and F-score are ill-defined and being set to 0.0 in labels with no predicted samples. Use `zero_division` parameter to control this behavior.\n",
            "  _warn_prf(average, modifier, msg_start, len(result))\n",
            "/usr/local/lib/python3.10/dist-packages/sklearn/metrics/_classification.py:1344: UndefinedMetricWarning: Precision and F-score are ill-defined and being set to 0.0 in labels with no predicted samples. Use `zero_division` parameter to control this behavior.\n",
            "  _warn_prf(average, modifier, msg_start, len(result))\n",
            "/usr/local/lib/python3.10/dist-packages/sklearn/metrics/_classification.py:1344: UndefinedMetricWarning: Precision and F-score are ill-defined and being set to 0.0 in labels with no predicted samples. Use `zero_division` parameter to control this behavior.\n",
            "  _warn_prf(average, modifier, msg_start, len(result))\n"
          ]
        }
      ]
    },
    {
      "cell_type": "markdown",
      "metadata": {
        "id": "D973plJrdwQ9"
      },
      "source": [
        "To get a prediction for a new sample, you can simply call the Keras `Model.predict` method. There are just two things you need to do:\n",
        "\n",
        "1.   Wrap scalars into a list so as to have a batch dimension (`Model`s only process batches of data, not single samples).\n",
        "2.   Call `tf.convert_to_tensor` on each feature."
      ]
    },
    {
      "cell_type": "code",
      "execution_count": null,
      "metadata": {
        "id": "rKq4pxtdDa7i",
        "colab": {
          "base_uri": "https://localhost:8080/"
        },
        "outputId": "c9c93251-0dd0-45c9-eadb-61d4d0f01a75"
      },
      "outputs": [
        {
          "output_type": "stream",
          "name": "stdout",
          "text": [
            "1/1 [==============================] - 1s 501ms/step\n",
            "This particular pet had a 83.7 percent probability of getting adopted.\n"
          ]
        }
      ],
      "source": [
        "sample = {\n",
        "    'Type': 'Cat',\n",
        "    'Age': 3,\n",
        "    'Breed1': 'Tabby',\n",
        "    'Gender': 'Male',\n",
        "    'Color1': 'Black',\n",
        "    'Color2': 'White',\n",
        "    'MaturitySize': 'Small',\n",
        "    'FurLength': 'Short',\n",
        "    'Vaccinated': 'No',\n",
        "    'Sterilized': 'No',\n",
        "    'Health': 'Healthy',\n",
        "    'Fee': 100,\n",
        "    'PhotoAmt': 2,\n",
        "}\n",
        "\n",
        "input_dict = {name: tf.convert_to_tensor([value]) for name, value in sample.items()}\n",
        "predictions = reloaded_model.predict(input_dict)\n",
        "prob = tf.nn.sigmoid(predictions[0])\n",
        "\n",
        "print(\n",
        "    \"This particular pet had a %.1f percent probability \"\n",
        "    \"of getting adopted.\" % (100 * prob)\n",
        ")"
      ]
    },
    {
      "cell_type": "markdown",
      "metadata": {
        "id": "XJQQZEiH2FaB"
      },
      "source": [
        "Note: You will typically have better results with deep learning with larger and more complex datasets. When working with a small dataset, such as the simplified PetFinder.my one, you can use a <a href=\"https://developers.google.com/machine-learning/glossary#decision-tree\" class=\"external\">decision tree</a> or a <a href=\"https://developers.google.com/machine-learning/glossary#random-forest\" class=\"external\">random forest</a> as a strong baseline. The goal of this tutorial is to demonstrate the mechanics of working with structured data, so you have a starting point when working with your own datasets in the future.\n"
      ]
    },
    {
      "cell_type": "markdown",
      "metadata": {
        "id": "k0QAY2Tb2HYG"
      },
      "source": [
        "## Next steps\n",
        "\n",
        "To learn more about classifying structured data, try working with other datasets. To improve accuracy during training and testing your models, think carefully about which features to include in your model and how they should be represented.\n",
        "\n",
        "Below are some suggestions for datasets:\n",
        "\n",
        "- [TensorFlow Datasets: MovieLens](https://www.tensorflow.org/datasets/catalog/movie_lens): A set of movie ratings from a movie recommendation service.\n",
        "- [TensorFlow Datasets: Wine Quality](https://www.tensorflow.org/datasets/catalog/wine_quality): Two datasets related to red and white variants of the Portuguese \"Vinho Verde\" wine. You can also find the Red Wine Quality dataset on <a href=\"https://www.kaggle.com/uciml/red-wine-quality-cortez-et-al-2009\" class=\"external\">Kaggle</a>.\n",
        "- <a href=\"https://www.kaggle.com/Cornell-University/arxiv\" class=\"external\">Kaggle: arXiv Dataset</a>: A corpus of 1.7 million scholarly articles from arXiv, covering physics, computer science, math, statistics, electrical engineering, quantitative biology, and economics.\n"
      ]
    }
  ],
  "metadata": {
    "colab": {
      "name": "preprocessing_layers.ipynb",
      "provenance": [],
      "include_colab_link": true
    },
    "kernelspec": {
      "display_name": "Python 3",
      "name": "python3"
    }
  },
  "nbformat": 4,
  "nbformat_minor": 0
}